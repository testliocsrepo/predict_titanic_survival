{
 "metadata": {
  "name": "",
  "signature": "sha256:99eff99cb24b9dff6151fc9a5957c31d51a0b72642091e51a293d719b4dc6962"
 },
 "nbformat": 3,
 "nbformat_minor": 0,
 "worksheets": [
  {
   "cells": [
    {
     "cell_type": "code",
     "collapsed": false,
     "input": [
      "import sys\n",
      "import string\n",
      "import pandas as pd\n",
      "import math\n",
      "from __future__ import print_function\n",
      "\n",
      "# turn of data table rendering\n",
      "pd.set_option('display.notebook_repr_html', False)\n",
      "sys.version"
     ],
     "language": "python",
     "metadata": {},
     "outputs": [
      {
       "metadata": {},
       "output_type": "pyout",
       "prompt_number": 1,
       "text": [
        "'3.4.1 |Anaconda 2.1.0 (64-bit)| (default, Sep 24 2014, 18:32:42) [MSC v.1600 64 bit (AMD64)]'"
       ]
      }
     ],
     "prompt_number": 1
    },
    {
     "cell_type": "markdown",
     "metadata": {},
     "source": [
      "## What is TF-IDF?\n",
      "Computer systems are great with numbers, but not so much with textual data. If we want to perform calculations on words, [n-grams](http://en.wikipedia.org/wiki/N-gram), sentences or whole catalogs, we need to somehow convert these into numbers. Term Frequency \u2013 Inverse Document Frequency ([TF-IDF](http://en.wikipedia.org/wiki/Tf%E2%80%93idf)) does just that. A TF-IDF score is a numerical representation of how important a word is to a document in a [text corpus](http://en.wikipedia.org/wiki/Text_corpus) (collection). It effectively lowers the weight of stopwords in favor of words that are much more meaningful in describing the document.\n",
      "\n",
      "The **TF score** of a word is the number of times the term $t$ appears in a document $d$ divided by the total number of words $w$ in the document:\n",
      "\n",
      "$$\n",
      "tf_{(t,d)}=\\frac{f_d(t)}{\\max\\limits_{w\\in d}f_d(w)}\n",
      "$$\n",
      "\n",
      "The **IDF score** is the log of the number of documents $D$ (corpus) divided by the number of documents $d$ that contain term $t$. We take the log to emphasise the importance of non-common terms. These are describing terms occurring only in some of the documents in the corpus. \n",
      "\n",
      "$$\n",
      "idf_{(t,D)}=\\log\\Bigg({\\frac{|D|}{|\\{d\\in D:t\\in d\\}|}}\\Bigg)\n",
      "$$\n",
      "\n",
      "The **TF-IDF** score is the multiplication of the TF and the IDF score:\n",
      "\n",
      "$$\n",
      "tfidf_{(t, d, D)}=tf_{(t,d)}\\cdot idf_{(t,D)}\n",
      "$$\n"
     ]
    },
    {
     "cell_type": "markdown",
     "metadata": {},
     "source": [
      "## Simple Example\n",
      "In the example below we calculate the TF-IDF scores of the words in a corpus of three documents with nine words each (for simplicity)."
     ]
    },
    {
     "cell_type": "code",
     "collapsed": false,
     "input": [
      "# Corpus of three documents\n",
      "doc1 = 'The man bought a pair of shoes while on a holiday in French'\n",
      "doc2 = 'A young girl went on a short holiday to the islands'\n",
      "doc3 = 'The man and the girl formed a nice young couple'\n",
      "\n",
      "doc1 = doc1.lower().split()\n",
      "doc2 = doc2.lower().split()\n",
      "doc3 = doc3.lower().split()\n",
      "print(doc1)"
     ],
     "language": "python",
     "metadata": {},
     "outputs": [
      {
       "output_type": "stream",
       "stream": "stdout",
       "text": [
        "['the', 'man', 'bought', 'a', 'pair', 'of', 'shoes', 'while', 'on', 'a', 'holiday', 'in', 'french']\n"
       ]
      }
     ],
     "prompt_number": 2
    },
    {
     "cell_type": "markdown",
     "metadata": {},
     "source": [
      "## Term Frequency\n",
      "First we focus on each document separately. Count the number of times a word appears in the text. Normalize the scores for each word in the dictionary by dividing by the total number of words in the document."
     ]
    },
    {
     "cell_type": "code",
     "collapsed": false,
     "input": [
      "# Calculate Term Frequency for a document\n",
      "def tf(doc):\n",
      "    result = {}\n",
      "    doc_size = len(doc)\n",
      "    \n",
      "    for term in doc:\n",
      "        if term in result:\n",
      "            result[term] += 1\n",
      "        else:\n",
      "            result[term] = 1\n",
      "    \n",
      "    for term in result:\n",
      "        result[term] = result[term] / doc_size\n",
      "        \n",
      "    return result\n",
      "\n",
      "tf_doc1 = tf(doc1)\n",
      "tf_doc2 = tf(doc2)\n",
      "tf_doc3 = tf(doc3)\n",
      "tf_doc1"
     ],
     "language": "python",
     "metadata": {},
     "outputs": [
      {
       "metadata": {},
       "output_type": "pyout",
       "prompt_number": 3,
       "text": [
        "{'on': 0.07692307692307693,\n",
        " 'french': 0.07692307692307693,\n",
        " 'while': 0.07692307692307693,\n",
        " 'holiday': 0.07692307692307693,\n",
        " 'of': 0.07692307692307693,\n",
        " 'a': 0.15384615384615385,\n",
        " 'man': 0.07692307692307693,\n",
        " 'bought': 0.07692307692307693,\n",
        " 'shoes': 0.07692307692307693,\n",
        " 'pair': 0.07692307692307693,\n",
        " 'the': 0.07692307692307693,\n",
        " 'in': 0.07692307692307693}"
       ]
      }
     ],
     "prompt_number": 3
    },
    {
     "cell_type": "markdown",
     "metadata": {},
     "source": [
      "The term 'a' has the highest frequency of 0.15 in document 1 because it appears twice."
     ]
    },
    {
     "cell_type": "markdown",
     "metadata": {},
     "source": [
      "## Inverse Document Frequency\n",
      "Calculate the Inverse Document Frequency for each word in each document. We do this by dividing the size of the document corpus by the number of documents containing the term."
     ]
    },
    {
     "cell_type": "code",
     "collapsed": false,
     "input": [
      "def idf(doc, corpus):\n",
      "    result = {}\n",
      "    corpus_size = len(corpus)\n",
      "    words_done = []\n",
      "    \n",
      "    for term in doc:\n",
      "        if term in words_done:\n",
      "            continue\n",
      "\n",
      "        for corpus_doc in corpus:\n",
      "            if term in corpus_doc:\n",
      "                if term in result:\n",
      "                    result[term] += 1\n",
      "                else:\n",
      "                    result[term] = 1\n",
      "\n",
      "            words_done.append(term)\n",
      "\n",
      "    for term in result:\n",
      "        result[term] = math.log10(corpus_size / result[term])\n",
      "\n",
      "    return result\n",
      "        \n",
      "idf_doc1 = idf(doc1, [doc1, doc2, doc3])\n",
      "idf_doc2 = idf(doc2, [doc1, doc2, doc3])\n",
      "idf_doc3 = idf(doc3, [doc1, doc2, doc3])\n",
      "idf_doc1"
     ],
     "language": "python",
     "metadata": {},
     "outputs": [
      {
       "metadata": {},
       "output_type": "pyout",
       "prompt_number": 4,
       "text": [
        "{'on': 0.17609125905568124,\n",
        " 'french': 0.47712125471966244,\n",
        " 'while': 0.47712125471966244,\n",
        " 'holiday': 0.17609125905568124,\n",
        " 'of': 0.47712125471966244,\n",
        " 'a': 0.0,\n",
        " 'man': 0.17609125905568124,\n",
        " 'bought': 0.47712125471966244,\n",
        " 'shoes': 0.47712125471966244,\n",
        " 'pair': 0.47712125471966244,\n",
        " 'the': 0.0,\n",
        " 'in': 0.47712125471966244}"
       ]
      }
     ],
     "prompt_number": 4
    },
    {
     "cell_type": "markdown",
     "metadata": {},
     "source": [
      "The term 'a' and 'the' have a IDF score of zero, because they appear in each document. The term 'shoes', however, has a much higher score, since it only appears in one document in the corpus."
     ]
    },
    {
     "cell_type": "markdown",
     "metadata": {},
     "source": [
      "## TF-IDF Scores for each Document\n",
      "By multiplying the TF and IDF we get a score for each word relative to the document *and* the corpus. The higher the score, the higher the importance of the word."
     ]
    },
    {
     "cell_type": "code",
     "collapsed": false,
     "input": [
      "def tf_idf(tf, idf):\n",
      "    result = {}\n",
      "    \n",
      "    for term in tf:\n",
      "        result[term] = idf[term] * tf[term]\n",
      "    \n",
      "    return result\n",
      "\n",
      "tf_idf(tf_doc1, idf_doc1)"
     ],
     "language": "python",
     "metadata": {},
     "outputs": [
      {
       "metadata": {},
       "output_type": "pyout",
       "prompt_number": 5,
       "text": [
        "{'on': 0.013545481465821635,\n",
        " 'french': 0.03670163497843557,\n",
        " 'while': 0.03670163497843557,\n",
        " 'holiday': 0.013545481465821635,\n",
        " 'of': 0.03670163497843557,\n",
        " 'a': 0.0,\n",
        " 'man': 0.013545481465821635,\n",
        " 'bought': 0.03670163497843557,\n",
        " 'shoes': 0.03670163497843557,\n",
        " 'pair': 0.03670163497843557,\n",
        " 'the': 0.0,\n",
        " 'in': 0.03670163497843557}"
       ]
      }
     ],
     "prompt_number": 5
    },
    {
     "cell_type": "markdown",
     "metadata": {},
     "source": [
      "We see that doc1 is mostly about shoes, French, bought, pair. Note that stopwords like 'in' and 'on' would be filtered out in a real-world corpus with scores close to zero."
     ]
    },
    {
     "cell_type": "code",
     "collapsed": false,
     "input": [
      "tf_idf(tf_doc2, idf_doc2)"
     ],
     "language": "python",
     "metadata": {},
     "outputs": [
      {
       "metadata": {},
       "output_type": "pyout",
       "prompt_number": 6,
       "text": [
        "{'young': 0.016008296277789203,\n",
        " 'a': 0.0,\n",
        " 'went': 0.043374659519969314,\n",
        " 'short': 0.043374659519969314,\n",
        " 'to': 0.043374659519969314,\n",
        " 'girl': 0.016008296277789203,\n",
        " 'holiday': 0.016008296277789203,\n",
        " 'on': 0.016008296277789203,\n",
        " 'the': 0.0,\n",
        " 'islands': 0.043374659519969314}"
       ]
      }
     ],
     "prompt_number": 6
    },
    {
     "cell_type": "markdown",
     "metadata": {},
     "source": [
      "When we look at doc2, we see it's about short, went, islands."
     ]
    },
    {
     "cell_type": "code",
     "collapsed": false,
     "input": [
      "tf_idf(tf_doc3, idf_doc3)"
     ],
     "language": "python",
     "metadata": {},
     "outputs": [
      {
       "metadata": {},
       "output_type": "pyout",
       "prompt_number": 7,
       "text": [
        "{'young': 0.017609125905568124,\n",
        " 'a': 0.0,\n",
        " 'man': 0.017609125905568124,\n",
        " 'formed': 0.047712125471966245,\n",
        " 'girl': 0.017609125905568124,\n",
        " 'and': 0.047712125471966245,\n",
        " 'couple': 0.047712125471966245,\n",
        " 'the': 0.0,\n",
        " 'nice': 0.047712125471966245}"
       ]
      }
     ],
     "prompt_number": 7
    },
    {
     "cell_type": "markdown",
     "metadata": {},
     "source": [
      "Finally doc3 is about nice, couple and formed."
     ]
    }
   ],
   "metadata": {}
  }
 ]
}
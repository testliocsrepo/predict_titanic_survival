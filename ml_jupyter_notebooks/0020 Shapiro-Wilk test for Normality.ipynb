{
 "worksheets": [
  {
   "cells": [
    {
     "cell_type": "code",
     "metadata": {},
     "outputs": [
      {
       "output_type": "pyout",
       "prompt_number": 1,
       "text": [
        "('1.9.1', '0.14.0', '0.15.2', '0.6.1')"
       ],
       "metadata": {}
      }
     ],
     "input": [
      "%matplotlib inline\n",
      "import numpy as np\n",
      "import pandas as pd\n",
      "import scipy\n",
      "import matplotlib.pyplot as plt\n",
      "import seaborn as sns\n",
      "from scipy import stats\n",
      "import statsmodels.api as sm\n",
      "import math\n",
      "from __future__ import division\n",
      "\n",
      "# turn of data table rendering\n",
      "pd.set_option('display.notebook_repr_html', False)\n",
      "\n",
      "sns.set_palette(['#00A99D', '#F5CA0C', '#B6129F', '#76620C', '#095C57'])\n",
      "np.version.full_version, scipy.version.full_version, \\\n",
      "pd.version.version, sm.version.full_version"
     ],
     "language": "python",
     "prompt_number": 1
    },
    {
     "cell_type": "markdown",
     "metadata": {},
     "source": [
      "## Non-normal distribution"
     ]
    },
    {
     "cell_type": "code",
     "metadata": {},
     "outputs": [
      {
       "output_type": "pyout",
       "prompt_number": 2,
       "text": [
        "count    50.000000\n",
        "mean      2.340000\n",
        "std       1.709637\n",
        "min       0.000000\n",
        "25%       1.000000\n",
        "50%       2.000000\n",
        "75%       3.000000\n",
        "max       8.000000\n",
        "dtype: float64"
       ],
       "metadata": {}
      }
     ],
     "input": [
      "# Create a set with an obvious non-normal distribution\n",
      "data = pd.Series([1,1,0,1,2,2,3,2,1,3,3,2,8,2,1,6,2,1,1,2,2,1,3,2,1,\n",
      "                  2,3,6,2,3,2,2,1,2,2,3,2,1,2,3,2,3,2,3,1,6,1,8,1,1])\n",
      "data.describe()"
     ],
     "language": "python",
     "prompt_number": 2
    },
    {
     "cell_type": "code",
     "metadata": {},
     "outputs": [
      {
       "output_type": "display_data",
       "png": "[encoded data removed]",
       "text": [
        "<matplotlib.figure.Figure at 0x5502d68>"
       ],
       "metadata": {}
      }
     ],
     "input": [
      "# Plot the non-normal distribution\n",
      "sns.distplot(data)\n",
      "plt.show()"
     ],
     "language": "python",
     "prompt_number": 3
    },
    {
     "cell_type": "code",
     "metadata": {},
     "outputs": [
      {
       "output_type": "pyout",
       "prompt_number": 4,
       "text": [
        "(0.7413722276687622, 4.960041621870914e-08)"
       ],
       "metadata": {}
      }
     ],
     "input": [
      "# The null hypothesis states the data was drawn from a normal distribution. \n",
      "# It returns the w-statistic and the probability that this statistic \n",
      "# came from a normal distribution (p value)\n",
      "w, p = stats.shapiro(data)\n",
      "w, p"
     ],
     "language": "python",
     "prompt_number": 4
    },
    {
     "cell_type": "code",
     "metadata": {},
     "outputs": [
      {
       "output_type": "pyout",
       "prompt_number": 5,
       "text": [
        "False"
       ],
       "metadata": {}
      }
     ],
     "input": [
      "# Test the null hypothesis with 5% alpha\n",
      "alpha = .05\n",
      "p > alpha"
     ],
     "language": "python",
     "prompt_number": 5
    },
    {
     "cell_type": "markdown",
     "metadata": {},
     "source": [
      "Since this p value is much larger than the significance level, we reject the null hypothesis that this sample comes from a normal distribution."
     ]
    },
    {
     "cell_type": "markdown",
     "metadata": {},
     "source": [
      "## Normal distribution"
     ]
    },
    {
     "cell_type": "code",
     "metadata": {},
     "outputs": [
      {
       "output_type": "pyout",
       "prompt_number": 6,
       "text": [
        "array([-0.06305276, -0.12291651, -0.04816977,  0.05572359,  0.13725905,\n",
        "        0.1447485 , -0.20264179, -0.06685487, -0.0781263 , -0.00718376,\n",
        "       -0.08506072, -0.03998016, -0.11571598,  0.12958116,  0.10986715,\n",
        "        0.0649146 , -0.13533652, -0.1174784 , -0.0714837 , -0.03965943,\n",
        "        0.01309047,  0.04284077,  0.02698651,  0.04941069, -0.01366992,\n",
        "       -0.16790697,  0.02145848, -0.09678135, -0.07191305,  0.07613435,\n",
        "        0.01198686, -0.14470548,  0.15809624, -0.09929681,  0.03842638,\n",
        "        0.06481776, -0.13934484,  0.07156626, -0.10190243, -0.09960222,\n",
        "        0.21799547, -0.02453129, -0.03748973, -0.17076149,  0.07634182,\n",
        "       -0.02514305,  0.10922111, -0.15272102, -0.13171909, -0.04938742])"
       ],
       "metadata": {}
      }
     ],
     "input": [
      "# Let perform the same test on a random generated normal distribution\n",
      "mu, sigma, n = 0, .1, 50\n",
      "data = np.random.normal(mu, sigma, n)\n",
      "data"
     ],
     "language": "python",
     "prompt_number": 6
    },
    {
     "cell_type": "code",
     "metadata": {},
     "outputs": [
      {
       "output_type": "display_data",
       "png": "[encoded data removed]",
       "text": [
        "<matplotlib.figure.Figure at 0x5502fd0>"
       ],
       "metadata": {}
      }
     ],
     "input": [
      "# Plot the more 'normal' distribution\n",
      "sns.distplot(data)\n",
      "plt.show()"
     ],
     "language": "python",
     "prompt_number": 7
    },
    {
     "cell_type": "code",
     "metadata": {},
     "outputs": [
      {
       "output_type": "pyout",
       "prompt_number": 8,
       "text": [
        "(0.9749879240989685, 0.3645625710487366)"
       ],
       "metadata": {}
      }
     ],
     "input": [
      "# The Shapiro-Wilk test tests the null hypothesis that the data \n",
      "# was drawn from a normal distribution.\n",
      "w, p = stats.shapiro(data)\n",
      "w, p"
     ],
     "language": "python",
     "prompt_number": 8
    },
    {
     "cell_type": "code",
     "metadata": {},
     "outputs": [
      {
       "output_type": "pyout",
       "prompt_number": 9,
       "text": [
        "True"
       ],
       "metadata": {}
      }
     ],
     "input": [
      "# Test the null hypothesis with 5% alpha\n",
      "alpha = .05\n",
      "p > alpha"
     ],
     "language": "python",
     "prompt_number": 9
    },
    {
     "cell_type": "markdown",
     "metadata": {},
     "source": [
      "Since this p value is much larger than the significance level, we retain the null hypothesis that this sample comes from a normal distribution."
     ]
    }
   ]
  }
 ],
 "cells": [],
 "metadata": {
  "name": "",
  "signature": "sha256:b9ae2af2e41edebf83d009e8bfee1228a5b72a322757dccd391d0fa948a737d7"
 },
 "nbformat": 3,
 "nbformat_minor": 0
}
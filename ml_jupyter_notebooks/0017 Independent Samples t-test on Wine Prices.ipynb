{
 "metadata": {
  "name": "",
  "signature": "sha256:0b7e9ef69494860497498544eb5b5680e8d0f0cc2574c17e2128ba0bf9dfb4d8"
 },
 "nbformat": 3,
 "nbformat_minor": 0,
 "worksheets": [
  {
   "cells": [
    {
     "cell_type": "code",
     "collapsed": false,
     "input": [
      "%matplotlib inline\n",
      "import numpy as np\n",
      "import pandas as pd\n",
      "import scipy\n",
      "import matplotlib.pyplot as plt\n",
      "import seaborn as sns\n",
      "from scipy import stats\n",
      "import statsmodels.api as sm\n",
      "import math\n",
      "from __future__ import division\n",
      "\n",
      "# turn of data table rendering\n",
      "pd.set_option('display.notebook_repr_html', False)\n",
      "\n",
      "sns.set_palette(['#00A99D', '#F5CA0C', '#B6129F', '#76620C', '#095C57'])\n",
      "np.version.full_version"
     ],
     "language": "python",
     "metadata": {},
     "outputs": [
      {
       "metadata": {},
       "output_type": "pyout",
       "prompt_number": 1,
       "text": [
        "'1.9.1'"
       ]
      }
     ],
     "prompt_number": 1
    },
    {
     "cell_type": "markdown",
     "metadata": {},
     "source": [
      "## Data\n",
      "We have collected samples of the wine prices of two fictitious online liquorstores, bestliqs.com and cheapliq.com."
     ]
    },
    {
     "cell_type": "code",
     "collapsed": false,
     "input": [
      "bestliqs_wine_prices = pd.Series(\n",
      "    [9, 5, 6, 11, 8, 5, 7, 13, 12, 13, 9, 8, 10, 6, 11, 9, 7, 12])\n",
      "cheapliq_wine_prices = pd.Series(\n",
      "    [11, 10, 12, 9, 8, 13, 14, 15, 12, 11, 13, 8, 9, 11])\n",
      "\n",
      "data = pd.DataFrame({'bestliqs': bestliqs_wine_prices, \n",
      "                     'cheapliq': cheapliq_wine_prices})\n",
      "data.describe()"
     ],
     "language": "python",
     "metadata": {},
     "outputs": [
      {
       "metadata": {},
       "output_type": "pyout",
       "prompt_number": 2,
       "text": [
        "        bestliqs   cheapliq\n",
        "count  18.000000  14.000000\n",
        "mean    8.944444  11.142857\n",
        "std     2.645134   2.178819\n",
        "min     5.000000   8.000000\n",
        "25%     7.000000   9.250000\n",
        "50%     9.000000  11.000000\n",
        "75%    11.000000  12.750000\n",
        "max    13.000000  15.000000"
       ]
      }
     ],
     "prompt_number": 2
    },
    {
     "cell_type": "code",
     "collapsed": false,
     "input": [
      "sns.violinplot(data.dropna())\n",
      "plt.xlabel('Online Liquor Store')\n",
      "plt.ylabel('Price')\n",
      "plt.show()"
     ],
     "language": "python",
     "metadata": {},
     "outputs": [
      {
       "metadata": {},
       "output_type": "display_data",
       "png": "[encoded data removed]",
       "text": [
        "<matplotlib.figure.Figure at 0xbc98320>"
       ]
      }
     ],
     "prompt_number": 3
    },
    {
     "cell_type": "markdown",
     "metadata": {},
     "source": [
      "## Question and hypothesis\n",
      "Well, it looks like cheapliq.com isn't as cheap as they say. However, is the difference statistically significant? We don't want to spend too much on the first batch of wine for our new cellar. Which online liquor store to choose if we want to decide on the lowest mean wine price?\n",
      "\n",
      "|Hypothesis||$\\alpha = .05$|\n",
      "|---:|:---:|---|:---|\n",
      "|$H_0:$|$\\mu_{best} = \\mu_{cheap}$|There is no significant difference in mean wine prices|\n",
      "|$H_a:$|$\\mu_{best} \\neq \\mu_{cheap}$|There is a significant difference in mean wine prices|"
     ]
    },
    {
     "cell_type": "markdown",
     "metadata": {},
     "source": [
      "## Independent Samples t-test"
     ]
    },
    {
     "cell_type": "code",
     "collapsed": false,
     "input": [
      "# First find out what the mean prices are\n",
      "xbar_best = data.bestliqs.mean()\n",
      "xbar_cheap = data.cheapliq.mean()\n",
      "xbar_best, xbar_cheap"
     ],
     "language": "python",
     "metadata": {},
     "outputs": [
      {
       "metadata": {},
       "output_type": "pyout",
       "prompt_number": 4,
       "text": [
        "(8.9444444444444446, 11.142857142857142)"
       ]
      }
     ],
     "prompt_number": 4
    },
    {
     "cell_type": "code",
     "collapsed": false,
     "input": [
      "# Then we get the sample standard devation for each liquor store\n",
      "s_best = data.bestliqs.std(ddof=1)\n",
      "s_cheap = data.cheapliq.std(ddof=1)\n",
      "s_best, s_cheap"
     ],
     "language": "python",
     "metadata": {},
     "outputs": [
      {
       "metadata": {},
       "output_type": "pyout",
       "prompt_number": 5,
       "text": [
        "(2.6451336499586904, 2.1788191176076901)"
       ]
      }
     ],
     "prompt_number": 5
    },
    {
     "cell_type": "markdown",
     "metadata": {},
     "source": [
      "## The Standard Error of the Mean\n",
      "To calculate the standard error of the mean combined for both independent wine price samples, we need to use the following formula:\n",
      "\n",
      "$$sem=\\sqrt{\\frac{s_{best}^2}{n_{best}}+\\frac{s_{cheap}^2}{n_{cheap}}}$$\n"
     ]
    },
    {
     "cell_type": "code",
     "collapsed": false,
     "input": [
      "# Calculate the standard error of the mean combined\n",
      "n_best = data.bestliqs.count()\n",
      "n_cheap = data.cheapliq.count()\n",
      "sem = math.sqrt(s_best ** 2 / n_best + \n",
      "                s_cheap ** 2 / n_cheap)\n",
      "sem"
     ],
     "language": "python",
     "metadata": {},
     "outputs": [
      {
       "metadata": {},
       "output_type": "pyout",
       "prompt_number": 6,
       "text": [
        "0.8531100847677227"
       ]
      }
     ],
     "prompt_number": 6
    },
    {
     "cell_type": "code",
     "collapsed": false,
     "input": [
      "# Now calculate the t-statistic\n",
      "t = (xbar_best - xbar_cheap) / sem\n",
      "t"
     ],
     "language": "python",
     "metadata": {},
     "outputs": [
      {
       "metadata": {},
       "output_type": "pyout",
       "prompt_number": 7,
       "text": [
        "-2.5769390582356815"
       ]
      }
     ],
     "prompt_number": 7
    },
    {
     "cell_type": "code",
     "collapsed": false,
     "input": [
      "# Get the criotical values for a two-tailed test at alpha .05\n",
      "alpha = .05\n",
      "dof = n_best + n_cheap - 2  # for both samples combined\n",
      "t_critical = stats.t.ppf(alpha / 2, dof)  # two sided\n",
      "t_critical"
     ],
     "language": "python",
     "metadata": {},
     "outputs": [
      {
       "metadata": {},
       "output_type": "pyout",
       "prompt_number": 8,
       "text": [
        "-2.0422724563012382"
       ]
      }
     ],
     "prompt_number": 8
    },
    {
     "cell_type": "markdown",
     "metadata": {},
     "source": [
      "## Hypothesis testing"
     ]
    },
    {
     "cell_type": "code",
     "collapsed": false,
     "input": [
      "# Test our alternative hypothesis\n",
      "t < t_critical or t > -t_critical"
     ],
     "language": "python",
     "metadata": {},
     "outputs": [
      {
       "metadata": {},
       "output_type": "pyout",
       "prompt_number": 9,
       "text": [
        "True"
       ]
      }
     ],
     "prompt_number": 9
    },
    {
     "cell_type": "code",
     "collapsed": false,
     "input": [
      "# Another way to test the alternative hypothesis by comparing \n",
      "# the probability of getting this mean with the alpha level.\n",
      "p = stats.t.sf(abs(t), dof) * 2  # two sided\n",
      "p"
     ],
     "language": "python",
     "metadata": {},
     "outputs": [
      {
       "metadata": {},
       "output_type": "pyout",
       "prompt_number": 10,
       "text": [
        "0.01512946515275131"
       ]
      }
     ],
     "prompt_number": 10
    },
    {
     "cell_type": "code",
     "collapsed": false,
     "input": [
      "p < alpha"
     ],
     "language": "python",
     "metadata": {},
     "outputs": [
      {
       "metadata": {},
       "output_type": "pyout",
       "prompt_number": 11,
       "text": [
        "True"
       ]
      }
     ],
     "prompt_number": 11
    },
    {
     "cell_type": "markdown",
     "metadata": {},
     "source": [
      "Based on these result, we conclude that the difference in mean wine price is not due to random chance or variation in the samples. Therefor we will reject the null hypothesis. Bestliqs.com is, on average, the better choice for the better wine price. Note there is a 5% chance (1 - alpha) on commiting a type I error in which the null hypothesis is true, but was rejected."
     ]
    },
    {
     "cell_type": "markdown",
     "metadata": {},
     "source": [
      "## Using scipy.stats or statsmodels"
     ]
    },
    {
     "cell_type": "code",
     "collapsed": false,
     "input": [
      "# A quicker way to get these results is to call scipy stats\n",
      "# ttest_ind on both samples for unequal variances\n",
      "# equal_var False makes it effectively Welch's t-test\n",
      "t_statistic, p = stats.ttest_ind(data.bestliqs, data.cheapliq.dropna(), \n",
      "                                 equal_var=False)\n",
      "t_statistic, p"
     ],
     "language": "python",
     "metadata": {},
     "outputs": [
      {
       "metadata": {},
       "output_type": "pyout",
       "prompt_number": 12,
       "text": [
        "(-2.576939058235681, 0.015153519382495312)"
       ]
      }
     ],
     "prompt_number": 12
    },
    {
     "cell_type": "code",
     "collapsed": false,
     "input": [
      "# Another alternative is using Statsmodels\n",
      "t_statistic, p, dof = sm.stats.ttest_ind(data.bestliqs, data.cheapliq.dropna(), \n",
      "                   alternative='two-sided', usevar='unequal')\n",
      "t_statistic, p, dof"
     ],
     "language": "python",
     "metadata": {},
     "outputs": [
      {
       "metadata": {},
       "output_type": "pyout",
       "prompt_number": 13,
       "text": [
        "(-2.576939058235681, 0.015153519382495319, 29.870886188503025)"
       ]
      }
     ],
     "prompt_number": 13
    }
   ],
   "metadata": {}
  }
 ]
}
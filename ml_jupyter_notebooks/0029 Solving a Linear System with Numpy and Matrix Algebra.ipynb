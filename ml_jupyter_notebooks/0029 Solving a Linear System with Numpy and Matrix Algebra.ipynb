{
 "metadata": {
  "name": "",
  "signature": "sha256:eefdf4d1d6ee19b0a819f3a45ef74a74c83534da9459e8d857121db69d050a0d"
 },
 "nbformat": 3,
 "nbformat_minor": 0,
 "worksheets": [
  {
   "cells": [
    {
     "cell_type": "code",
     "collapsed": false,
     "input": [
      "import numpy as np\n",
      "from __future__ import print_function"
     ],
     "language": "python",
     "metadata": {},
     "outputs": [],
     "prompt_number": 1
    },
    {
     "cell_type": "markdown",
     "metadata": {},
     "source": [
      "## Linear System of Equations\n",
      "In Numpy there are a couple of handy functions for [solving equations and inverting matrices](http://docs.scipy.org/doc/numpy/reference/routines.linalg.html#solving-equations-and-inverting-matrices). Suppose we have the following three linear equations and we want to solve for $x$, $y$ and $z$:\n",
      "\n",
      "$$\n",
      "2x + y - 3z = 12\\\\\n",
      "x - 3y + z = 7\\\\\n",
      "4x + y - 2z = 4\n",
      "$$"
     ]
    },
    {
     "cell_type": "code",
     "collapsed": false,
     "input": [
      "# Solve the system of equations \n",
      "#   2x+ y\u22123z = 12\n",
      "#    x\u22123y+ z = 7\n",
      "#   4x+ y\u22122z = 4\n",
      "\n",
      "a = np.matrix([[2, 1, -3], [1, -3, 1], [4, 1, -2]])\n",
      "b = np.matrix([[12], [7], [4]])\n",
      "\n",
      "print(a)"
     ],
     "language": "python",
     "metadata": {},
     "outputs": [
      {
       "output_type": "stream",
       "stream": "stdout",
       "text": [
        "[[ 2  1 -3]\n",
        " [ 1 -3  1]\n",
        " [ 4  1 -2]]\n"
       ]
      }
     ],
     "prompt_number": 2
    },
    {
     "cell_type": "code",
     "collapsed": false,
     "input": [
      "# We can solve by taking the inverse of matrix a times b\n",
      "a.I * b"
     ],
     "language": "python",
     "metadata": {},
     "outputs": [
      {
       "metadata": {},
       "output_type": "pyout",
       "prompt_number": 3,
       "text": [
        "matrix([[-0.91304348],\n",
        "        [-4.69565217],\n",
        "        [-6.17391304]])"
       ]
      }
     ],
     "prompt_number": 3
    },
    {
     "cell_type": "code",
     "collapsed": false,
     "input": [
      "# A Faster and more stable way of doing the same is\n",
      "# using the solve function\n",
      "s = np.linalg.solve(a, b)\n",
      "s"
     ],
     "language": "python",
     "metadata": {},
     "outputs": [
      {
       "metadata": {},
       "output_type": "pyout",
       "prompt_number": 4,
       "text": [
        "matrix([[-0.91304348],\n",
        "        [-4.69565217],\n",
        "        [-6.17391304]])"
       ]
      }
     ],
     "prompt_number": 4
    },
    {
     "cell_type": "code",
     "collapsed": false,
     "input": [
      "# Check the solution\n",
      "x = s[0]\n",
      "y = s[1]\n",
      "z = s[2]\n",
      "\n",
      "print(2*x +   y - 3*z)\n",
      "print(  x - 3*y +   z)\n",
      "print(4*x +   y - 2*z)"
     ],
     "language": "python",
     "metadata": {},
     "outputs": [
      {
       "output_type": "stream",
       "stream": "stdout",
       "text": [
        "[[ 12.]]\n",
        "[[ 7.]]\n",
        "[[ 4.]]\n"
       ]
      }
     ],
     "prompt_number": 5
    },
    {
     "cell_type": "code",
     "collapsed": false,
     "input": [
      "# Check the solution by taking the dot product\n",
      "np.allclose(np.dot(a, s), b)"
     ],
     "language": "python",
     "metadata": {},
     "outputs": [
      {
       "metadata": {},
       "output_type": "pyout",
       "prompt_number": 6,
       "text": [
        "True"
       ]
      }
     ],
     "prompt_number": 6
    }
   ],
   "metadata": {}
  }
 ]
}
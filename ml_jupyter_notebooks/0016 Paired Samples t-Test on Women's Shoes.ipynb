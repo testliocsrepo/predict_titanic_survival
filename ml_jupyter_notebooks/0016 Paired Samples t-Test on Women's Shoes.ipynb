{
 "metadata": {
  "name": "",
  "signature": "sha256:3affb8dd153ea5d0ba9ee1c4c423b143bdc8fbfaef949c59cf9ef90353934e51"
 },
 "nbformat": 3,
 "nbformat_minor": 0,
 "worksheets": [
  {
   "cells": [
    {
     "cell_type": "code",
     "collapsed": false,
     "input": [
      "%matplotlib inline\n",
      "import numpy as np\n",
      "import pandas as pd\n",
      "import scipy\n",
      "import matplotlib.pyplot as plt\n",
      "import seaborn as sns\n",
      "from scipy import stats\n",
      "import math\n",
      "from __future__ import division\n",
      "\n",
      "# turn of data table rendering\n",
      "pd.set_option('display.notebook_repr_html', False)\n",
      "\n",
      "sns.set_palette(['#00A99D', '#F5CA0C', '#B6129F', '#76620C', '#095C57'])\n",
      "np.version.full_version"
     ],
     "language": "python",
     "metadata": {},
     "outputs": [
      {
       "metadata": {},
       "output_type": "pyout",
       "prompt_number": 1,
       "text": [
        "'1.9.1'"
       ]
      }
     ],
     "prompt_number": 1
    },
    {
     "cell_type": "markdown",
     "metadata": {},
     "source": [
      "## Data\n",
      "We use two samples of the same subjects, in this case a group of 19 randomly selected women walking on high heels in one sample and flat shoes in another. The samples show the number of steps taken in 30 days for each woman in the group."
     ]
    },
    {
     "cell_type": "code",
     "collapsed": false,
     "input": [
      "high_heels = pd.Series(\n",
      "    [189158.,  192110.,  176194.,  156349.,  161981.,  152096.,\n",
      "     168058.,  156401.,  174939.,  170711.,  170485.,  150565.,\n",
      "     167770.,  157289.,  191459.,  160661.,  190667.,  184006.,  174503.])\n",
      "flat_shoes = pd.Series(\n",
      "    [188777.,  196981.,  190510.,  184603.,  192341.,  197897.,\n",
      "     154040.,  168098.,  192263.,  154085.,  176084.,  189249.,\n",
      "     176291.,  151454.,  198118.,  162959.,  167480.,  159884.,  184386.])\n",
      "\n",
      "data = pd.DataFrame({'high': high_heels, 'flat': flat_shoes})\n",
      "data.head()"
     ],
     "language": "python",
     "metadata": {},
     "outputs": [
      {
       "metadata": {},
       "output_type": "pyout",
       "prompt_number": 2,
       "text": [
        "     flat    high\n",
        "0  188777  189158\n",
        "1  196981  192110\n",
        "2  190510  176194\n",
        "3  184603  156349\n",
        "4  192341  161981"
       ]
      }
     ],
     "prompt_number": 2
    },
    {
     "cell_type": "code",
     "collapsed": false,
     "input": [
      "# Let's look at the difference in a side-by-side violin plot\n",
      "sns.violinplot(data)\n",
      "plt.ylabel('Number of steps in 30 days')\n",
      "plt.xlabel('Kind of shoes')\n",
      "plt.show()"
     ],
     "language": "python",
     "metadata": {},
     "outputs": [
      {
       "metadata": {},
       "output_type": "display_data",
       "png": "[encoded data removed]",
       "text": [
        "<matplotlib.figure.Figure at 0xcf38b00>"
       ]
      }
     ],
     "prompt_number": 3
    },
    {
     "cell_type": "markdown",
     "metadata": {},
     "source": [
      "Just peeking at the plot shows a higher average step frequency over the period of 30 days for the group of women wearing flat shoes. But is it a statistical significant difference?"
     ]
    },
    {
     "cell_type": "code",
     "collapsed": false,
     "input": [
      "# The violin plot above shows the median, quartiles, IQR and \n",
      "# probability density function (kernel density estimation) \n",
      "# for both groups\n",
      "data.describe()"
     ],
     "language": "python",
     "metadata": {},
     "outputs": [
      {
       "metadata": {},
       "output_type": "pyout",
       "prompt_number": 4,
       "text": [
        "                flat           high\n",
        "count      19.000000      19.000000\n",
        "mean   178184.210526  170810.631579\n",
        "std     16113.058647   13748.423232\n",
        "min    151454.000000  150565.000000\n",
        "25%    165219.500000  158975.000000\n",
        "50%    184386.000000  170485.000000\n",
        "75%    191386.500000  180100.000000\n",
        "max    198118.000000  192110.000000"
       ]
      }
     ],
     "prompt_number": 4
    },
    {
     "cell_type": "markdown",
     "metadata": {},
     "source": [
      "## Hypothesis\n",
      "We want to know if there is a significant difference in the mean steps taken in 30 days for women wearing high heels and the same group wearing flat shoes. While walking on high heels, the women scored a mean average of $\\bar{x}_h=170810.63$. On flat shoes the mean average is $\\bar{x}_f=178184.21$ We choose as our test criterium an alpha level of 5%. So our hypothesis states:\n",
      "\n",
      "|Hypothesis||$\\alpha = .05$|\n",
      "|---:|:---:|---|:---|\n",
      "|$H_0:$|$\\mu_h = \\mu_f$|There is no significant difference in mean steps between groups|\n",
      "|$H_a:$|$\\mu_h \\neq \\mu_f$|There is a significant difference in mean steps between groups|\n",
      "\n",
      "Note that the hypothesis is written to denote the whole population, not just the sample."
     ]
    },
    {
     "cell_type": "code",
     "collapsed": false,
     "input": [
      "# Take the difference of each subject\n",
      "data['difference'] = data.high - data.flat\n",
      "data.head()"
     ],
     "language": "python",
     "metadata": {},
     "outputs": [
      {
       "metadata": {},
       "output_type": "pyout",
       "prompt_number": 5,
       "text": [
        "     flat    high  difference\n",
        "0  188777  189158         381\n",
        "1  196981  192110       -4871\n",
        "2  190510  176194      -14316\n",
        "3  184603  156349      -28254\n",
        "4  192341  161981      -30360"
       ]
      }
     ],
     "prompt_number": 5
    },
    {
     "cell_type": "markdown",
     "metadata": {},
     "source": [
      "## Conduct a t-Test for dependent means\n",
      "All steps below are actually the same as for a one sample t-test conducted on a sample of mean differences."
     ]
    },
    {
     "cell_type": "code",
     "collapsed": false,
     "input": [
      "# Calculate the point estimate (mean difference)\n",
      "point_estimate = data['difference'].mean()\n",
      "point_estimate"
     ],
     "language": "python",
     "metadata": {},
     "outputs": [
      {
       "metadata": {},
       "output_type": "pyout",
       "prompt_number": 6,
       "text": [
        "-7373.5789473684208"
       ]
      }
     ],
     "prompt_number": 6
    },
    {
     "cell_type": "code",
     "collapsed": false,
     "input": [
      "# Calculate the sample standard deviation of the difference\n",
      "s = data.difference.std()\n",
      "s"
     ],
     "language": "python",
     "metadata": {},
     "outputs": [
      {
       "metadata": {},
       "output_type": "pyout",
       "prompt_number": 7,
       "text": [
        "19471.738275755764"
       ]
      }
     ],
     "prompt_number": 7
    },
    {
     "cell_type": "code",
     "collapsed": false,
     "input": [
      "# Show the mean difference distribution\n",
      "sns.distplot(data.difference, label='mean difference')\n",
      "plt.legend()\n",
      "plt.show()"
     ],
     "language": "python",
     "metadata": {},
     "outputs": [
      {
       "metadata": {},
       "output_type": "display_data",
       "png": "[encoded data removed]",
       "text": [
        "<matplotlib.figure.Figure at 0xcf22278>"
       ]
      }
     ],
     "prompt_number": 8
    },
    {
     "cell_type": "code",
     "collapsed": false,
     "input": [
      "# Calculate the t-statistic with the point estimate\n",
      "n = data.high.count() # the same for both samples\n",
      "se = s / math.sqrt(n) # standard error\n",
      "t = point_estimate / se\n",
      "n, se, t"
     ],
     "language": "python",
     "metadata": {},
     "outputs": [
      {
       "metadata": {},
       "output_type": "pyout",
       "prompt_number": 9,
       "text": [
        "(19, 4467.1231262680149, -1.6506325746898669)"
       ]
      }
     ],
     "prompt_number": 9
    },
    {
     "cell_type": "code",
     "collapsed": false,
     "input": [
      "# So what is the probability of getting this mean difference?\n",
      "dof = n - 1\n",
      "p = stats.t.sf(abs(t), dof) * 2 # two sided\n",
      "p"
     ],
     "language": "python",
     "metadata": {},
     "outputs": [
      {
       "metadata": {},
       "output_type": "pyout",
       "prompt_number": 10,
       "text": [
        "0.11615318918022229"
       ]
      }
     ],
     "prompt_number": 10
    },
    {
     "cell_type": "code",
     "collapsed": false,
     "input": [
      "# To test our alternative hypothesis\n",
      "alpha = .05\n",
      "p < alpha / 2 # two sided"
     ],
     "language": "python",
     "metadata": {},
     "outputs": [
      {
       "metadata": {},
       "output_type": "pyout",
       "prompt_number": 11,
       "text": [
        "False"
       ]
      }
     ],
     "prompt_number": 11
    },
    {
     "cell_type": "markdown",
     "metadata": {},
     "source": [
      "We fail to reject the null. There is no statistical significant difference in the mean differences between steps taken on high heels or flat shoes."
     ]
    },
    {
     "cell_type": "code",
     "collapsed": false,
     "input": [
      "# A quicker way to perform a dependent t-test is to call the scipy\n",
      "# function ttest_rel on both samples to get our t-statistic and \n",
      "# p value\n",
      "t_statistic, p = stats.ttest_rel(data.high, data.flat)\n",
      "t_statistic, p"
     ],
     "language": "python",
     "metadata": {},
     "outputs": [
      {
       "metadata": {},
       "output_type": "pyout",
       "prompt_number": 12,
       "text": [
        "(-1.6506325746898667, 0.11615318918022235)"
       ]
      }
     ],
     "prompt_number": 12
    },
    {
     "cell_type": "markdown",
     "metadata": {},
     "source": [
      "## Confidence interval"
     ]
    },
    {
     "cell_type": "code",
     "collapsed": false,
     "input": [
      "# Calculate t-critical to use with our confidence interval\n",
      "t_critical = abs(stats.t.ppf(alpha / 2, dof)) # two sided\n",
      "t_critical"
     ],
     "language": "python",
     "metadata": {},
     "outputs": [
      {
       "metadata": {},
       "output_type": "pyout",
       "prompt_number": 13,
       "text": [
        "2.1009220402409601"
       ]
      }
     ],
     "prompt_number": 13
    },
    {
     "cell_type": "code",
     "collapsed": false,
     "input": [
      "# Calculate the confidence interval\n",
      "margin_of_error = se * t_critical\n",
      "CI_lo = point_estimate - margin_of_error\n",
      "CI_hi = point_estimate + margin_of_error\n",
      "CI_lo, CI_hi"
     ],
     "language": "python",
     "metadata": {},
     "outputs": [
      {
       "metadata": {},
       "output_type": "pyout",
       "prompt_number": 14,
       "text": [
        "(-16758.656379814995, 2011.498485078152)"
       ]
      }
     ],
     "prompt_number": 14
    },
    {
     "cell_type": "markdown",
     "metadata": {},
     "source": [
      "We are confident that the true mean difference lies somewhere between -16758 and 2011. This confidence interval crosses 0, so a true mean difference could be 0 (meaning no difference at all)."
     ]
    }
   ],
   "metadata": {}
  }
 ]
}
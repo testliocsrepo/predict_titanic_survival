{
 "metadata": {
  "name": "",
  "signature": "sha256:9e49d8ccebcb9e3ddab28507fb19388481587685e9c82669c4bcba8327ec8c4d"
 },
 "nbformat": 3,
 "nbformat_minor": 0,
 "worksheets": [
  {
   "cells": [
    {
     "cell_type": "code",
     "collapsed": false,
     "input": [
      "import numpy as np\n",
      "np.version.full_version"
     ],
     "language": "python",
     "metadata": {},
     "outputs": [
      {
       "metadata": {},
       "output_type": "pyout",
       "prompt_number": 1,
       "text": [
        "'1.9.1'"
       ]
      }
     ],
     "prompt_number": 1
    },
    {
     "cell_type": "markdown",
     "metadata": {},
     "source": [
      "## Vector multiplication"
     ]
    },
    {
     "cell_type": "code",
     "collapsed": false,
     "input": [
      "# Multiply two one-dimensional array's\n",
      "# Vector a and b need to be of the same size\n",
      "a = [1, 2, 3]\n",
      "b = [5, 10, 15]\n",
      "\n",
      "# 1*5 + 2*10 + 3*15\n",
      "np.dot(a, b)"
     ],
     "language": "python",
     "metadata": {},
     "outputs": [
      {
       "metadata": {},
       "output_type": "pyout",
       "prompt_number": 2,
       "text": [
        "70"
       ]
      }
     ],
     "prompt_number": 2
    },
    {
     "cell_type": "code",
     "collapsed": false,
     "input": [
      "# Vector and matrix multiplication into matrix\n",
      "a = [1, 2]\n",
      "b = [[5, 10], [15, 20]]\n",
      "\n",
      "# 1*5 + 2*15, 1*10 + 2*20\n",
      "np.dot(a, b)"
     ],
     "language": "python",
     "metadata": {},
     "outputs": [
      {
       "metadata": {},
       "output_type": "pyout",
       "prompt_number": 3,
       "text": [
        "array([35, 50])"
       ]
      }
     ],
     "prompt_number": 3
    },
    {
     "cell_type": "markdown",
     "metadata": {},
     "source": [
      "## Matrix multiplication"
     ]
    },
    {
     "cell_type": "code",
     "collapsed": false,
     "input": [
      "# Matrix and vector multiplication into matrix\n",
      "a = [[5, 10], [15, 20]]\n",
      "b = [1, 2]\n",
      "\n",
      "# 5*1 + 10*2, 15*1 + 20*2\n",
      "np.dot(a, b)"
     ],
     "language": "python",
     "metadata": {},
     "outputs": [
      {
       "metadata": {},
       "output_type": "pyout",
       "prompt_number": 4,
       "text": [
        "array([25, 55])"
       ]
      }
     ],
     "prompt_number": 4
    },
    {
     "cell_type": "code",
     "collapsed": false,
     "input": [
      "# Matrix to matrix multiplication\n",
      "a = [[5, 10], [15, 20], [25, 30]]\n",
      "b = [[1, 2], [3,4]]\n",
      "\n",
      "#  5*1 + 10*3,  5*2 + 10*4\n",
      "# 15*1 + 20*3, 15*2 + 20*4\n",
      "# 25*1 + 30*3, 25*2 + 30*4\n",
      "np.dot(a, b)"
     ],
     "language": "python",
     "metadata": {},
     "outputs": [
      {
       "metadata": {},
       "output_type": "pyout",
       "prompt_number": 5,
       "text": [
        "array([[ 35,  50],\n",
        "       [ 75, 110],\n",
        "       [115, 170]])"
       ]
      }
     ],
     "prompt_number": 5
    },
    {
     "cell_type": "code",
     "collapsed": false,
     "input": [
      "# Matrix to matrix multiplication\n",
      "a = [[1, 2, 3], [4, 5, 6]]\n",
      "b = [[5, 10], [15, 20], [25, 30]]\n",
      "\n",
      "#  1*5 + 2*15 + 3*25, 1*10 + 2*20 + 3*30\n",
      "#  4*5 + 5*15 + 6*25, 4*10 + 5*20 + 6*30\n",
      "np.dot(a, b)"
     ],
     "language": "python",
     "metadata": {},
     "outputs": [
      {
       "metadata": {},
       "output_type": "pyout",
       "prompt_number": 6,
       "text": [
        "array([[110, 140],\n",
        "       [245, 320]])"
       ]
      }
     ],
     "prompt_number": 6
    }
   ],
   "metadata": {}
  }
 ]
}
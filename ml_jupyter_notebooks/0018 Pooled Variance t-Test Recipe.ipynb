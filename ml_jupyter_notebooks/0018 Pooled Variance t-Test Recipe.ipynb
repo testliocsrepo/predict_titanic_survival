{
 "metadata": {
  "name": "",
  "signature": "sha256:d1280bf8eb4763d45038d4e9c899ab70037f7c87d4fac517beb3822ec0d89095"
 },
 "nbformat": 3,
 "nbformat_minor": 0,
 "worksheets": [
  {
   "cells": [
    {
     "cell_type": "code",
     "collapsed": false,
     "input": [
      "%matplotlib inline\n",
      "import numpy as np\n",
      "import pandas as pd\n",
      "import scipy\n",
      "import matplotlib.pyplot as plt\n",
      "import seaborn as sns\n",
      "from scipy import stats\n",
      "import statsmodels.api as sm\n",
      "import math\n",
      "from __future__ import division\n",
      "\n",
      "# turn of data table rendering\n",
      "pd.set_option('display.notebook_repr_html', False)\n",
      "\n",
      "sns.set_palette(['#00A99D', '#F5CA0C', '#B6129F', '#76620C', '#095C57'])\n",
      "np.version.full_version"
     ],
     "language": "python",
     "metadata": {},
     "outputs": [
      {
       "metadata": {},
       "output_type": "pyout",
       "prompt_number": 1,
       "text": [
        "'1.9.1'"
       ]
      }
     ],
     "prompt_number": 1
    },
    {
     "cell_type": "markdown",
     "metadata": {},
     "source": [
      "## Data\n",
      "Here we create two samples of different sample size. We want to know if the sample means are significantly different."
     ]
    },
    {
     "cell_type": "code",
     "collapsed": false,
     "input": [
      "sample_a = np.array([4.9, 6.2, 1.0, -4.8, 2.2, 5.4])\n",
      "sample_b = np.array([2.8, 6.9, 8.4])\n",
      "\n",
      "sns.violinplot([sample_a, sample_b], names=['sample a', 'sample b'])\n",
      "plt.show()"
     ],
     "language": "python",
     "metadata": {},
     "outputs": [
      {
       "metadata": {},
       "output_type": "display_data",
       "png": "[encoded data removed]",
       "text": [
        "<matplotlib.figure.Figure at 0x3729dd8>"
       ]
      }
     ],
     "prompt_number": 2
    },
    {
     "cell_type": "code",
     "collapsed": false,
     "input": [
      "# Find the mean for both samples\n",
      "xbar_a = sample_a.mean()\n",
      "xbar_b = sample_b.mean()\n",
      "\n",
      "xbar_a, xbar_b"
     ],
     "language": "python",
     "metadata": {},
     "outputs": [
      {
       "metadata": {},
       "output_type": "pyout",
       "prompt_number": 3,
       "text": [
        "(2.4833333333333338, 6.0333333333333341)"
       ]
      }
     ],
     "prompt_number": 3
    },
    {
     "cell_type": "markdown",
     "metadata": {},
     "source": [
      "## Hypothesis\n",
      "Is there a statistical significant difference between the two sample means at an alpha level of .05?\n",
      "\n",
      "|Hypothesis||$\\alpha = .05$|\n",
      "|---:|:---:|---|:---|\n",
      "|$H_0:$|$\\mu_{a} = \\mu_{a}$|There is no significant difference between a and b|\n",
      "|$H_a:$|$\\mu_{b} \\neq \\mu_{b}$|There is a significant difference between a and b|"
     ]
    },
    {
     "cell_type": "markdown",
     "metadata": {},
     "source": [
      "## Sum of Squares\n",
      "First we need to find the sum of squares from both samples. We do this by summing all the differences from the mean in the sample, then square them. The following formula applies:\n",
      "\n",
      "$$SS=\\sum(x_i-\\bar{x})^2$$"
     ]
    },
    {
     "cell_type": "code",
     "collapsed": false,
     "input": [
      "# Find the sum of squares for both samples\n",
      "ss_a = np.sum((sample_a - xbar_a) ** 2)\n",
      "ss_b = np.sum((sample_b - xbar_b) ** 2)\n",
      "\n",
      "ss_a, ss_b"
     ],
     "language": "python",
     "metadata": {},
     "outputs": [
      {
       "metadata": {},
       "output_type": "pyout",
       "prompt_number": 4,
       "text": [
        "(83.48833333333333, 16.806666666666668)"
       ]
      }
     ],
     "prompt_number": 4
    },
    {
     "cell_type": "markdown",
     "metadata": {},
     "source": [
      "## Pooled Variance\n",
      "Since the sample size between a and b is different, we can use the pooled variance to account for these difference in calculations. The following formula applies:\n",
      "\n",
      "$$S_p^2=\\frac{SS_a+SS_b}{df_a + df_b}$$"
     ]
    },
    {
     "cell_type": "code",
     "collapsed": false,
     "input": [
      "# Calculate the Degrees of Freedom for both samples\n",
      "n_a = len(sample_a)\n",
      "n_b = len(sample_b)\n",
      "dof_a = n_a - 1\n",
      "dof_b = n_b - 1\n",
      "\n",
      "dof_a, dof_b"
     ],
     "language": "python",
     "metadata": {},
     "outputs": [
      {
       "metadata": {},
       "output_type": "pyout",
       "prompt_number": 5,
       "text": [
        "(5, 2)"
       ]
      }
     ],
     "prompt_number": 5
    },
    {
     "cell_type": "code",
     "collapsed": false,
     "input": [
      "# Calculate the Pooled Variance\n",
      "Sp2 = (ss_a + ss_b) / (dof_a + dof_b)\n",
      "Sp2"
     ],
     "language": "python",
     "metadata": {},
     "outputs": [
      {
       "metadata": {},
       "output_type": "pyout",
       "prompt_number": 6,
       "text": [
        "14.327857142857143"
       ]
      }
     ],
     "prompt_number": 6
    },
    {
     "cell_type": "markdown",
     "metadata": {},
     "source": [
      "## Standard Error\n",
      "Now we can calculate the Standard Error by using the Pooled Variance instead of the individual variance. The following formula applies:\n",
      "\n",
      "$$sem=\\sqrt{\\frac{S_p^2}{n_a}+\\frac{S_p^2}{n_b}}$$"
     ]
    },
    {
     "cell_type": "code",
     "collapsed": false,
     "input": [
      "# Calculate the Standard Error of the Mean\n",
      "sem = np.sqrt(Sp2 / n_a + Sp2 / n_b)\n",
      "sem"
     ],
     "language": "python",
     "metadata": {},
     "outputs": [
      {
       "metadata": {},
       "output_type": "pyout",
       "prompt_number": 7,
       "text": [
        "2.6765516194216339"
       ]
      }
     ],
     "prompt_number": 7
    },
    {
     "cell_type": "markdown",
     "metadata": {},
     "source": [
      "## The t-Statistic\n",
      "The t-statistic for the mean difference between these samples is calculated as follows:\n",
      "\n",
      "$$t=\\frac{(\\bar{x}_a-\\bar{x}_b)-(\\mu_a-\\mu_b)}{sem}$$"
     ]
    },
    {
     "cell_type": "code",
     "collapsed": false,
     "input": [
      "# Calculate the t-statistic\n",
      "observed_diff = xbar_a - xbar_b\n",
      "expected_diff = 0  # we expect no difference between population means\n",
      "\n",
      "t = (observed_diff - expected_diff) / sem\n",
      "t"
     ],
     "language": "python",
     "metadata": {},
     "outputs": [
      {
       "metadata": {},
       "output_type": "pyout",
       "prompt_number": 8,
       "text": [
        "-1.3263334711127697"
       ]
      }
     ],
     "prompt_number": 8
    },
    {
     "cell_type": "markdown",
     "metadata": {},
     "source": [
      "## The t-critical value\n",
      "To test our hypothesis, we need to get the t-critical value."
     ]
    },
    {
     "cell_type": "code",
     "collapsed": false,
     "input": [
      "alpha = .05\n",
      "t_critical = np.abs(stats.t.ppf(alpha / 2, dof_a + dof_b))  # two sided\n",
      "t_critical"
     ],
     "language": "python",
     "metadata": {},
     "outputs": [
      {
       "metadata": {},
       "output_type": "pyout",
       "prompt_number": 9,
       "text": [
        "2.3646242510103002"
       ]
      }
     ],
     "prompt_number": 9
    },
    {
     "cell_type": "markdown",
     "metadata": {},
     "source": [
      "## Hypothesis testing"
     ]
    },
    {
     "cell_type": "code",
     "collapsed": false,
     "input": [
      "# We compare our t-statistic against the t-criticalk value to test the \n",
      "# acceptance of the alternative hypothesis\n",
      "-t_critical > t or t > t_critical"
     ],
     "language": "python",
     "metadata": {},
     "outputs": [
      {
       "metadata": {},
       "output_type": "pyout",
       "prompt_number": 10,
       "text": [
        "False"
       ]
      }
     ],
     "prompt_number": 10
    },
    {
     "cell_type": "markdown",
     "metadata": {},
     "source": [
      "Since the t-statistic lies between the t-critical values of alpha, we fail to reject the null hypothesis. The mean difference from both samples is probably due to chance and therefore not statistical significant."
     ]
    },
    {
     "cell_type": "markdown",
     "metadata": {},
     "source": [
      "## Using scipy.stats or statsmodels"
     ]
    },
    {
     "cell_type": "code",
     "collapsed": false,
     "input": [
      "# A quicker way to get these results is to call scipy stats\n",
      "# ttest_ind on both samples\n",
      "t_statistic, p = stats.ttest_ind(sample_a, sample_b)\n",
      "t_statistic, p"
     ],
     "language": "python",
     "metadata": {},
     "outputs": [
      {
       "metadata": {},
       "output_type": "pyout",
       "prompt_number": 11,
       "text": [
        "(-1.3263334711127697, 0.22636455334070857)"
       ]
      }
     ],
     "prompt_number": 11
    },
    {
     "cell_type": "code",
     "collapsed": false,
     "input": [
      "# Another alternative is using Statsmodels\n",
      "t_statistic, p, dof = sm.stats.ttest_ind(sample_a, sample_b, \n",
      "                   alternative='two-sided', usevar='pooled')\n",
      "t_statistic, p, dof"
     ],
     "language": "python",
     "metadata": {},
     "outputs": [
      {
       "metadata": {},
       "output_type": "pyout",
       "prompt_number": 12,
       "text": [
        "(-1.3263334711127697, 0.22636455334070857, 7.0)"
       ]
      }
     ],
     "prompt_number": 12
    }
   ],
   "metadata": {}
  }
 ]
}
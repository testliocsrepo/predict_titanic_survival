{
 "metadata": {
  "name": "",
  "signature": "sha256:65ca0ac9c377fa9c4e135281871172e8ef79fd97bb19177daa6db8a5cde050e4"
 },
 "nbformat": 3,
 "nbformat_minor": 0,
 "worksheets": [
  {
   "cells": [
    {
     "cell_type": "code",
     "collapsed": false,
     "input": [
      "%matplotlib inline\n",
      "import numpy as np\n",
      "import pandas as pd\n",
      "import scipy\n",
      "import matplotlib.pyplot as plt\n",
      "import matplotlib.mlab as mlab\n",
      "import seaborn as sns\n",
      "from scipy import stats\n",
      "import math\n",
      "from __future__ import division\n",
      "\n",
      "# turn of data table rendering\n",
      "pd.set_option('display.notebook_repr_html', False)\n",
      "\n",
      "sns.set_palette(['#00A99D', '#F5CA0C', '#B6129F', '#76620C', '#095C57'])\n",
      "np.version.full_version"
     ],
     "language": "python",
     "metadata": {},
     "outputs": [
      {
       "metadata": {},
       "output_type": "pyout",
       "prompt_number": 1,
       "text": [
        "'1.9.1'"
       ]
      }
     ],
     "prompt_number": 1
    },
    {
     "cell_type": "markdown",
     "metadata": {},
     "source": [
      "## Data\n",
      "The data used in this example contains reporting from the [Federal Aviation Administration Wildlife Strike Database](http://wildlife.faa.gov/database.aspx) in 2012 and 2013 in the US state of California. We only use daily wild life strike incident frequencies."
     ]
    },
    {
     "cell_type": "code",
     "collapsed": false,
     "input": [
      "# Load the data from a csv file. \n",
      "data = pd.read_csv('data/wildlife.csv')\n",
      "\n",
      "# We only need the incident dates this time\n",
      "data = data[['INCIDENT_DATE']]\n",
      "data.INCIDENT_DATE = pd.to_datetime(data.INCIDENT_DATE)\n",
      "data = data.groupby('INCIDENT_DATE')['INCIDENT_DATE'].size()\n",
      "data.head()"
     ],
     "language": "python",
     "metadata": {},
     "outputs": [
      {
       "metadata": {},
       "output_type": "pyout",
       "prompt_number": 2,
       "text": [
        "INCIDENT_DATE\n",
        "2012-01-02       1\n",
        "2012-01-04       2\n",
        "2012-01-05       5\n",
        "2012-01-06       3\n",
        "2012-01-07       2\n",
        "dtype: int64"
       ]
      }
     ],
     "prompt_number": 2
    },
    {
     "cell_type": "code",
     "collapsed": false,
     "input": [
      "# Set the index to contain all days in 2012 and 2013\n",
      "days_2012_2013 = pd.date_range('1/1/2012', '12/31/2013')\n",
      "data = pd.DataFrame(data, index=days_2012_2013, columns=['incidents'])\n",
      "data.head()"
     ],
     "language": "python",
     "metadata": {},
     "outputs": [
      {
       "metadata": {},
       "output_type": "pyout",
       "prompt_number": 3,
       "text": [
        "            incidents\n",
        "2012-01-01        NaN\n",
        "2012-01-02          1\n",
        "2012-01-03        NaN\n",
        "2012-01-04          2\n",
        "2012-01-05          5"
       ]
      }
     ],
     "prompt_number": 3
    },
    {
     "cell_type": "code",
     "collapsed": false,
     "input": [
      "# Fill the data with no strike incidents (NaN) with a zero\n",
      "data = data.fillna(0)\n",
      "data.head()"
     ],
     "language": "python",
     "metadata": {},
     "outputs": [
      {
       "metadata": {},
       "output_type": "pyout",
       "prompt_number": 4,
       "text": [
        "            incidents\n",
        "2012-01-01          0\n",
        "2012-01-02          1\n",
        "2012-01-03          0\n",
        "2012-01-04          2\n",
        "2012-01-05          5"
       ]
      }
     ],
     "prompt_number": 4
    },
    {
     "cell_type": "code",
     "collapsed": false,
     "input": [
      "# Plot of the daily strike incident frequencies of 2012 and 2013\n",
      "f, (ax1, ax2) = plt.subplots(2, 1, sharex=True, sharey=True)\n",
      "sns.barplot(data['2012'].incidents, ax=ax1)\n",
      "sns.barplot(data['2013'].incidents, ax=ax2)\n",
      "ax1.set_title('Wildlife Strike Incidents 2012')\n",
      "ax2.set_title('Wildlife Strike Incidents 2013')\n",
      "ax1.set_xlabel('')\n",
      "ax2.set_xlabel('')\n",
      "plt.show()"
     ],
     "language": "python",
     "metadata": {},
     "outputs": [
      {
       "metadata": {},
       "output_type": "display_data",
       "png": "[encoded data removed]",
       "text": [
        "<matplotlib.figure.Figure at 0x17a21f98>"
       ]
      }
     ],
     "prompt_number": 5
    },
    {
     "cell_type": "markdown",
     "metadata": {},
     "source": [
      "## Hypothesis testing\n",
      "Let's asume that the Federal Aviation Administration launched a new Wildlife Strike Prevention Program in 2013. We want to know if there is a significant decline in the number of daily strike incidents in 2013 as opposed to 2012. This forms our operational definition. We choose an alpha level of .05 as our level of significance. A probability smaller than the alpha level leads to rejecting the null hypothesis.\n",
      "\n",
      "|Hypothesis|$\\alpha = .05$||\n",
      "|---|---|---|:---:|\n",
      "|Null|$H_0:$|$\\bar{x} = \\mu$|\n",
      "|Alternative|$H_a:$|$\\bar{x} \\lt \\mu$|\n",
      "\n"
     ]
    },
    {
     "cell_type": "code",
     "collapsed": false,
     "input": [
      "# We assume stats from the wildlife strike incidents in 2012\n",
      "# to be our population parameters\n",
      "mu = data['2012'].incidents.mean()\n",
      "sigma = data['2012'].incidents.std()\n",
      "mu, sigma"
     ],
     "language": "python",
     "metadata": {},
     "outputs": [
      {
       "metadata": {},
       "output_type": "pyout",
       "prompt_number": 6,
       "text": [
        "(2.5546448087431695, 1.6818182461905784)"
       ]
      }
     ],
     "prompt_number": 6
    },
    {
     "cell_type": "code",
     "collapsed": false,
     "input": [
      "# We also take the average of strike incidents in 2013\n",
      "xbar = data['2013'].incidents.mean()\n",
      "xbar"
     ],
     "language": "python",
     "metadata": {},
     "outputs": [
      {
       "metadata": {},
       "output_type": "pyout",
       "prompt_number": 7,
       "text": [
        "2.4328767123287673"
       ]
      }
     ],
     "prompt_number": 7
    },
    {
     "cell_type": "code",
     "collapsed": false,
     "input": [
      "# What is our sample size\n",
      "n = data['2013'].incidents.count()\n",
      "n"
     ],
     "language": "python",
     "metadata": {},
     "outputs": [
      {
       "metadata": {},
       "output_type": "pyout",
       "prompt_number": 8,
       "text": [
        "365"
       ]
      }
     ],
     "prompt_number": 8
    },
    {
     "cell_type": "code",
     "collapsed": false,
     "input": [
      "# Calculate the standard error\n",
      "SE = sigma / math.sqrt(n)\n",
      "SE"
     ],
     "language": "python",
     "metadata": {},
     "outputs": [
      {
       "metadata": {},
       "output_type": "pyout",
       "prompt_number": 9,
       "text": [
        "0.08803039035048664"
       ]
      }
     ],
     "prompt_number": 9
    },
    {
     "cell_type": "markdown",
     "metadata": {},
     "source": [
      "We notice the mean average wildlife strike incidents is somewhat lower in 2013. We need to find out if this is due to the normal variation in the data. In other words, could we draw this mean by pure random chance? To find out, we calculate the z score for our sample mean and check this against the significance level alpha. "
     ]
    },
    {
     "cell_type": "code",
     "collapsed": false,
     "input": [
      "# Calculate the z score for the mean of 2013 (xbar)\n",
      "zscore = (xbar - mu) / SE\n",
      "zscore"
     ],
     "language": "python",
     "metadata": {},
     "outputs": [
      {
       "metadata": {},
       "output_type": "pyout",
       "prompt_number": 10,
       "text": [
        "-1.3832506697924574"
       ]
      }
     ],
     "prompt_number": 10
    },
    {
     "cell_type": "code",
     "collapsed": false,
     "input": [
      "# Calculate the critical value of the alpha level on one side of the\n",
      "# distribution, because we're only intrested in a mean decline\n",
      "alpha = .05\n",
      "critical_value = stats.norm.ppf(alpha)\n",
      "critical_value"
     ],
     "language": "python",
     "metadata": {},
     "outputs": [
      {
       "metadata": {},
       "output_type": "pyout",
       "prompt_number": 11,
       "text": [
        "-1.6448536269514729"
       ]
      }
     ],
     "prompt_number": 11
    },
    {
     "cell_type": "code",
     "collapsed": false,
     "input": [
      "# Plot the normal distribution\n",
      "samples = 100\n",
      "x_plot = np.linspace(-3.5, 3.5, samples)\n",
      "y_plot = stats.norm.pdf(x_plot, 0, 1)\n",
      "plt.plot(x_plot, y_plot)\n",
      "\n",
      "# Plot the critical region\n",
      "x_crit = np.linspace(-3.5, critical_value, samples)\n",
      "y_crit = stats.norm.pdf(x_crit, 0, 1)\n",
      "plt.fill_between(x_crit,  y_crit, alpha=.5)\n",
      "\n",
      "# Plot the z score\n",
      "plt.plot([zscore, zscore], [0, stats.norm.pdf(zscore)])\n",
      "\n",
      "# Show legend\n",
      "plt.legend(['critical region', 'z score'])\n",
      "plt.show()"
     ],
     "language": "python",
     "metadata": {},
     "outputs": [
      {
       "metadata": {},
       "output_type": "display_data",
       "png": "[encoded data removed]",
       "text": [
        "<matplotlib.figure.Figure at 0x182e3518>"
       ]
      }
     ],
     "prompt_number": 12
    },
    {
     "cell_type": "code",
     "collapsed": false,
     "input": [
      "# So given these values let's test the alternative hypothesis\n",
      "zscore < critical_value"
     ],
     "language": "python",
     "metadata": {},
     "outputs": [
      {
       "metadata": {},
       "output_type": "pyout",
       "prompt_number": 13,
       "text": [
        "False"
       ]
      }
     ],
     "prompt_number": 13
    },
    {
     "cell_type": "markdown",
     "metadata": {},
     "source": [
      "This means we could have drawn a mean sample xbar from the real population pure by random chance, therefore we fail to reject the null hypothesis. In other words, there is no significant difference of average daily strike incidents between 2013 and 2012."
     ]
    },
    {
     "cell_type": "code",
     "collapsed": false,
     "input": [
      "# The probability of drawing this sample mean is about 8%\n",
      "p = stats.norm.cdf(zscore)\n",
      "p"
     ],
     "language": "python",
     "metadata": {},
     "outputs": [
      {
       "metadata": {},
       "output_type": "pyout",
       "prompt_number": 14,
       "text": [
        "0.083294009028340998"
       ]
      }
     ],
     "prompt_number": 14
    }
   ],
   "metadata": {}
  }
 ]
}
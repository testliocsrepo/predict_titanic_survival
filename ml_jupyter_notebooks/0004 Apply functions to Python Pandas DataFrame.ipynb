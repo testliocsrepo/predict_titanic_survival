{
 "metadata": {
  "name": "",
  "signature": "sha256:c9dea62f585889f9184ef258e2d075bfcc4c64a05ff721273330da21ece11915"
 },
 "nbformat": 3,
 "nbformat_minor": 0,
 "worksheets": [
  {
   "cells": [
    {
     "cell_type": "markdown",
     "metadata": {},
     "source": [
      "## Setup"
     ]
    },
    {
     "cell_type": "code",
     "collapsed": false,
     "input": [
      "import pandas as pd\n",
      "import numpy as np\n",
      "from scipy import stats\n",
      "\n",
      "# turn of data table rendering\n",
      "pd.set_option('display.notebook_repr_html', False)\n",
      "pd.version.version"
     ],
     "language": "python",
     "metadata": {},
     "outputs": [
      {
       "metadata": {},
       "output_type": "pyout",
       "prompt_number": 1,
       "text": [
        "'0.15.2'"
       ]
      }
     ],
     "prompt_number": 1
    },
    {
     "cell_type": "markdown",
     "metadata": {},
     "source": [
      "## Data set"
     ]
    },
    {
     "cell_type": "code",
     "collapsed": false,
     "input": [
      "# Constructing a beer sales DataFrame\n",
      "df = pd.DataFrame({'Billy Beer': [13884, 23008, 17883, 24435, 49938],\n",
      "                   'Lucky Lager': [34565, 83938, 59437, 28843, 48285],\n",
      "                   'Triple Bock': [39987, 35512, 23542, 37729, 36647]})\n",
      "df"
     ],
     "language": "python",
     "metadata": {},
     "outputs": [
      {
       "metadata": {},
       "output_type": "pyout",
       "prompt_number": 2,
       "text": [
        "   Billy Beer  Lucky Lager  Triple Bock\n",
        "0       13884        34565        39987\n",
        "1       23008        83938        35512\n",
        "2       17883        59437        23542\n",
        "3       24435        28843        37729\n",
        "4       49938        48285        36647"
       ]
      }
     ],
     "prompt_number": 2
    },
    {
     "cell_type": "code",
     "collapsed": false,
     "input": [
      "# Quick insights / descriptive statistics\n",
      "df. describe()"
     ],
     "language": "python",
     "metadata": {},
     "outputs": [
      {
       "metadata": {},
       "output_type": "pyout",
       "prompt_number": 3,
       "text": [
        "         Billy Beer   Lucky Lager   Triple Bock\n",
        "count      5.000000      5.000000      5.000000\n",
        "mean   25829.600000  51013.600000  34683.400000\n",
        "std    14115.302841  21934.601587   6443.542294\n",
        "min    13884.000000  28843.000000  23542.000000\n",
        "25%    17883.000000  34565.000000  35512.000000\n",
        "50%    23008.000000  48285.000000  36647.000000\n",
        "75%    24435.000000  59437.000000  37729.000000\n",
        "max    49938.000000  83938.000000  39987.000000"
       ]
      }
     ],
     "prompt_number": 3
    },
    {
     "cell_type": "markdown",
     "metadata": {},
     "source": [
      "## Call functions on a DataFrame"
     ]
    },
    {
     "cell_type": "code",
     "collapsed": false,
     "input": [
      "# Computing the mean sales for each brand\n",
      "df.mean()"
     ],
     "language": "python",
     "metadata": {},
     "outputs": [
      {
       "metadata": {},
       "output_type": "pyout",
       "prompt_number": 4,
       "text": [
        "Billy Beer     25829.6\n",
        "Lucky Lager    51013.6\n",
        "Triple Bock    34683.4\n",
        "dtype: float64"
       ]
      }
     ],
     "prompt_number": 4
    },
    {
     "cell_type": "code",
     "collapsed": false,
     "input": [
      "# Calculate the 75% quartile\n",
      "df.quantile(q=.75)"
     ],
     "language": "python",
     "metadata": {},
     "outputs": [
      {
       "metadata": {},
       "output_type": "pyout",
       "prompt_number": 5,
       "text": [
        "Billy Beer     24435\n",
        "Lucky Lager    59437\n",
        "Triple Bock    37729\n",
        "dtype: float64"
       ]
      }
     ],
     "prompt_number": 5
    },
    {
     "cell_type": "code",
     "collapsed": false,
     "input": [
      "# Calculate the sample standard deviation\n",
      "df.std()"
     ],
     "language": "python",
     "metadata": {},
     "outputs": [
      {
       "metadata": {},
       "output_type": "pyout",
       "prompt_number": 6,
       "text": [
        "Billy Beer     14115.302841\n",
        "Lucky Lager    21934.601587\n",
        "Triple Bock     6443.542294\n",
        "dtype: float64"
       ]
      }
     ],
     "prompt_number": 6
    },
    {
     "cell_type": "code",
     "collapsed": false,
     "input": [
      "# Calculate the population standard deviation\n",
      "df.std(ddof=0)"
     ],
     "language": "python",
     "metadata": {},
     "outputs": [
      {
       "metadata": {},
       "output_type": "pyout",
       "prompt_number": 7,
       "text": [
        "Billy Beer     12625.110670\n",
        "Lucky Lager    19618.904084\n",
        "Triple Bock     5763.279434\n",
        "dtype: float64"
       ]
      }
     ],
     "prompt_number": 7
    },
    {
     "cell_type": "markdown",
     "metadata": {},
     "source": [
      "## Using Apply or Lambda expression"
     ]
    },
    {
     "cell_type": "code",
     "collapsed": false,
     "input": [
      "# The same as calling .mean on the DataFrame\n",
      "df.apply(np.mean)"
     ],
     "language": "python",
     "metadata": {},
     "outputs": [
      {
       "metadata": {},
       "output_type": "pyout",
       "prompt_number": 8,
       "text": [
        "Billy Beer     25829.6\n",
        "Lucky Lager    51013.6\n",
        "Triple Bock    34683.4\n",
        "dtype: float64"
       ]
      }
     ],
     "prompt_number": 8
    },
    {
     "cell_type": "code",
     "collapsed": false,
     "input": [
      "# Same as above\n",
      "np.mean(df)"
     ],
     "language": "python",
     "metadata": {},
     "outputs": [
      {
       "metadata": {},
       "output_type": "pyout",
       "prompt_number": 9,
       "text": [
        "Billy Beer     25829.6\n",
        "Lucky Lager    51013.6\n",
        "Triple Bock    34683.4\n",
        "dtype: float64"
       ]
      }
     ],
     "prompt_number": 9
    },
    {
     "cell_type": "code",
     "collapsed": false,
     "input": [
      "# Specify a function to apply to the DataFrame\n",
      "def zscore(series):\n",
      "    result = (series - series.mean()) / series.std()\n",
      "    return result\n",
      "\n",
      "# Call Apply on the highest function\n",
      "df.apply(zscore)"
     ],
     "language": "python",
     "metadata": {},
     "outputs": [
      {
       "metadata": {},
       "output_type": "pyout",
       "prompt_number": 10,
       "text": [
        "   Billy Beer  Lucky Lager  Triple Bock\n",
        "0   -0.846287    -0.749893     0.823088\n",
        "1   -0.199897     1.501026     0.128594\n",
        "2   -0.562978     0.384023    -1.729080\n",
        "3   -0.098801    -1.010759     0.472659\n",
        "4    1.707962    -0.124397     0.304739"
       ]
      }
     ],
     "prompt_number": 10
    },
    {
     "cell_type": "code",
     "collapsed": false,
     "input": [
      "# The same result values as using scipy stats zscore with\n",
      "# a dynamic degrees of freedom of 1 \n",
      "stats.zscore(df, ddof=1)"
     ],
     "language": "python",
     "metadata": {},
     "outputs": [
      {
       "metadata": {},
       "output_type": "pyout",
       "prompt_number": 11,
       "text": [
        "array([[-0.84628719, -0.74989281,  0.82308764],\n",
        "       [-0.19989653,  1.50102567,  0.12859386],\n",
        "       [-0.56297765,  0.38402339, -1.72907998],\n",
        "       [-0.09880057, -1.01075918,  0.47265927],\n",
        "       [ 1.70796194, -0.12439706,  0.30473921]])"
       ]
      }
     ],
     "prompt_number": 11
    },
    {
     "cell_type": "code",
     "collapsed": false,
     "input": [
      "# Calculate inter quartile range with a lambda expression\n",
      "df.apply(lambda x: x.quantile(q=.75) - x.quantile(q=.25))"
     ],
     "language": "python",
     "metadata": {},
     "outputs": [
      {
       "metadata": {},
       "output_type": "pyout",
       "prompt_number": 12,
       "text": [
        "Billy Beer      6552\n",
        "Lucky Lager    24872\n",
        "Triple Bock     2217\n",
        "dtype: float64"
       ]
      }
     ],
     "prompt_number": 12
    }
   ],
   "metadata": {}
  }
 ]
}
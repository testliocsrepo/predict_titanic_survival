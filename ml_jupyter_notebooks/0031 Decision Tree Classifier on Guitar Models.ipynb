{
 "metadata": {
  "name": "",
  "signature": "sha256:bdb34f3de8b7ae52f03159ebba95621b2c59cf5cb898265abd1ff854f6b4fb63"
 },
 "nbformat": 3,
 "nbformat_minor": 0,
 "worksheets": [
  {
   "cells": [
    {
     "cell_type": "code",
     "collapsed": false,
     "input": [
      "%matplotlib inline\n",
      "import sys\n",
      "import string\n",
      "import numpy as np\n",
      "import pandas as pd\n",
      "import matplotlib.pyplot as plt\n",
      "import seaborn as sns\n",
      "\n",
      "from sklearn import feature_extraction\n",
      "from sklearn import tree\n",
      "from sklearn.externals.six import StringIO  \n",
      "from IPython.core.display import Image\n",
      "import pydot\n",
      "\n",
      "from __future__ import print_function\n",
      "\n",
      "# turn of data table rendering\n",
      "pd.set_option('display.notebook_repr_html', False)\n",
      "sns.set_palette(['#00A99D', '#F5CA0C', '#B6129F', '#76620C', '#095C57'])\n",
      "sys.version"
     ],
     "language": "python",
     "metadata": {},
     "outputs": [
      {
       "metadata": {},
       "output_type": "pyout",
       "prompt_number": 1,
       "text": [
        "'2.7.8 |Anaconda 2.1.0 (64-bit)| (default, Jul  2 2014, 15:12:11) [MSC v.1500 64 bit (AMD64)]'"
       ]
      }
     ],
     "prompt_number": 1
    },
    {
     "cell_type": "markdown",
     "metadata": {},
     "source": [
      "## What is a Decision Tree?\n",
      "A decision tree is a structure of questions and answers used to separate data points into classes. We can use supervised machine learning to build such a structure from existing data. Decision trees can be used for classification and regression. In this example we focus on classification.\n",
      "\n",
      "### Classification of Guitar Models\n",
      "In the example below we try to predict the class of a guitar, based on its features, using a decision tree. There are only two classes of guitar models in this case, 10 Stratocasters (st) and 16 Les Paul (lp) models. Our feature set contains body material, fretboard, number of frets and kind of pickup elements. Note: this is probably *highly inaccurate* toy-data only created to illustrate a point. You can [download the data set](https://raw.githubusercontent.com/remondo/NoteBooks-Unsupervised-Learning/master/data/guitar-model.csv) from my GitHub repo."
     ]
    },
    {
     "cell_type": "code",
     "collapsed": false,
     "input": [
      "# Load the guitar model data set\n",
      "df = pd.read_csv('data\\guitar-model.csv')\n",
      "df"
     ],
     "language": "python",
     "metadata": {},
     "outputs": [
      {
       "metadata": {},
       "output_type": "pyout",
       "prompt_number": 2,
       "text": [
        "   model  material fretboard  frets     elements\n",
        "0     st     alder     maple     21   humbuckers\n",
        "1     st     alder     maple     21   humbuckers\n",
        "2     st      lime     maple     22  single coil\n",
        "3     st      lime     maple     22  single coil\n",
        "4     st     alder     maple     24  single coil\n",
        "5     st     alder     maple     24  single coil\n",
        "6     st     alder  rosewood     24  single coil\n",
        "7     st     alder  rosewood     24  single coil\n",
        "8     st     maple  rosewood     24  single coil\n",
        "9     st     maple  rosewood     24  single coil\n",
        "10    lp      lime  rosewood     24   humbuckers\n",
        "11    lp      lime  rosewood     24   humbuckers\n",
        "12    lp     alder  rosewood     24   humbuckers\n",
        "13    lp     alder  rosewood     24   humbuckers\n",
        "14    lp  mahogany  rosewood     24   humbuckers\n",
        "15    lp  mahogany  rosewood     24   humbuckers\n",
        "16    lp  mahogany  rosewood     24   humbuckers\n",
        "17    lp  mahogany  rosewood     22   humbuckers\n",
        "18    lp  mahogany  rosewood     22   humbuckers\n",
        "19    lp     alder     ebony     24   humbuckers\n",
        "20    lp      lime     ebony     22   humbuckers\n",
        "21    lp  mahogany     ebony     22   humbuckers\n",
        "22    lp  mahogany  rosewood     22   humbuckers\n",
        "23    lp  mahogany  rosewood     22   humbuckers\n",
        "24    lp      lime  rosewood     22  single coil\n",
        "25    lp      lime  rosewood     23  single coil"
       ]
      }
     ],
     "prompt_number": 2
    },
    {
     "cell_type": "markdown",
     "metadata": {},
     "source": [
      "##Feature Extraction\n",
      "We are confronted with a lot of categorical data, so we need to do some feature extraction first. We use [binary one-hot encoding](http://unsupervised-learning.com/binary-one-hot-encoding-for-machine-learning-in-python/) for this."
     ]
    },
    {
     "cell_type": "code",
     "collapsed": false,
     "input": [
      "# Do some feature extracting for\n",
      "cat_columns = ['material', 'fretboard', 'frets', 'elements']\n",
      "cat_dict = df[cat_columns].to_dict(orient='records')\n",
      "\n",
      "vec = feature_extraction.DictVectorizer()\n",
      "cat_vector = vec.fit_transform(cat_dict).toarray()\n",
      "\n",
      "df_vector = pd.DataFrame(cat_vector)\n",
      "vector_columns = vec.get_feature_names()\n",
      "df_vector.columns = vector_columns\n",
      "df_vector.index = df.index\n",
      "\n",
      "df = df.drop(cat_columns, axis=1)\n",
      "df = df.join(df_vector)\n",
      "df.head()"
     ],
     "language": "python",
     "metadata": {},
     "outputs": [
      {
       "metadata": {},
       "output_type": "pyout",
       "prompt_number": 3,
       "text": [
        "  model  elements=humbuckers  elements=single coil  fretboard=ebony  \\\n",
        "0    st                    1                     0                0   \n",
        "1    st                    1                     0                0   \n",
        "2    st                    0                     1                0   \n",
        "3    st                    0                     1                0   \n",
        "4    st                    0                     1                0   \n",
        "\n",
        "   fretboard=maple  fretboard=rosewood  frets  material=alder  material=lime  \\\n",
        "0                1                   0     21               1              0   \n",
        "1                1                   0     21               1              0   \n",
        "2                1                   0     22               0              1   \n",
        "3                1                   0     22               0              1   \n",
        "4                1                   0     24               1              0   \n",
        "\n",
        "   material=mahogany  material=maple  \n",
        "0                  0               0  \n",
        "1                  0               0  \n",
        "2                  0               0  \n",
        "3                  0               0  \n",
        "4                  0               0  "
       ]
      }
     ],
     "prompt_number": 3
    },
    {
     "cell_type": "code",
     "collapsed": false,
     "input": [
      "# Assign an ID to the models\n",
      "df.loc[df.model == 'st','model'] = 0\n",
      "df.loc[df.model == 'lp','model'] = 1\n",
      "df.model.value_counts()"
     ],
     "language": "python",
     "metadata": {},
     "outputs": [
      {
       "metadata": {},
       "output_type": "pyout",
       "prompt_number": 4,
       "text": [
        "1    16\n",
        "0    10\n",
        "dtype: int64"
       ]
      }
     ],
     "prompt_number": 4
    },
    {
     "cell_type": "markdown",
     "metadata": {},
     "source": [
      "## Building the Decision Tree Classifier\n",
      "We use Scikit Learn's [DecisionTreeClassifier](http://scikit-learn.org/stable/modules/generated/sklearn.tree.DecisionTreeClassifier.html) to construct a decision tree. To choose which feature gives the largest information gain at any given point in the tree, we use the entropy criterion. Entropy is a proportional measure of how pure a set of labels is, where 0.0 is perfectly pure and 1.0 is the largets possible mix of labels."
     ]
    },
    {
     "cell_type": "code",
     "collapsed": false,
     "input": [
      "# Split the data set in features and labels\n",
      "features = df.drop(['model'], axis=1)\n",
      "labels = df.model\n",
      "\n",
      "test_features = features[-1:]\n",
      "test_label = labels[-1:]\n",
      "\n",
      "# Train the decision tree based on the entropy criterion\n",
      "clf = tree.DecisionTreeClassifier(criterion='entropy')\n",
      "clf = clf.fit(features[:-1], labels[:-1])\n",
      "clf"
     ],
     "language": "python",
     "metadata": {},
     "outputs": [
      {
       "metadata": {},
       "output_type": "pyout",
       "prompt_number": 5,
       "text": [
        "DecisionTreeClassifier(compute_importances=None, criterion='entropy',\n",
        "            max_depth=None, max_features=None, max_leaf_nodes=None,\n",
        "            min_density=None, min_samples_leaf=1, min_samples_split=2,\n",
        "            random_state=None, splitter='best')"
       ]
      }
     ],
     "prompt_number": 5
    },
    {
     "cell_type": "code",
     "collapsed": false,
     "input": [
      "# Visualize the decision tree\n",
      "dot_data = StringIO() \n",
      "tree.export_graphviz(clf, out_file=dot_data, feature_names=features.columns) \n",
      "graph = pydot.graph_from_dot_data(dot_data.getvalue()) \n",
      "Image(graph.create_png())"
     ],
     "language": "python",
     "metadata": {},
     "outputs": [
      {
       "metadata": {},
       "output_type": "pyout",
       "png": "[encoded data removed]",
       "prompt_number": 6,
       "text": [
        "<IPython.core.display.Image at 0x171f2a20>"
       ]
      }
     ],
     "prompt_number": 6
    },
    {
     "cell_type": "code",
     "collapsed": false,
     "input": [
      "# Make a prediction with test data\n",
      "pred = clf.predict(test_features)\n",
      "print(features[-1:].T)\n",
      "print('Predicted class:', pred)\n",
      "print('Accurate prediction?', pred[0] == test_label.values[0])"
     ],
     "language": "python",
     "metadata": {},
     "outputs": [
      {
       "output_type": "stream",
       "stream": "stdout",
       "text": [
        "                      25\n",
        "elements=humbuckers    0\n",
        "elements=single coil   1\n",
        "fretboard=ebony        0\n",
        "fretboard=maple        0\n",
        "fretboard=rosewood     1\n",
        "frets                 23\n",
        "material=alder         0\n",
        "material=lime          1\n",
        "material=mahogany      0\n",
        "material=maple         0\n",
        "Predicted class: [1]\n",
        "Accurate prediction? True\n"
       ]
      }
     ],
     "prompt_number": 7
    },
    {
     "cell_type": "markdown",
     "metadata": {},
     "source": [
      "It seems that the 'material' of the guitar body does not play any roll in deciding which label belongs to a given feature set."
     ]
    }
   ],
   "metadata": {}
  }
 ]
}
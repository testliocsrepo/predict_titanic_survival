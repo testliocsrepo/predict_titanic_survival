{
 "metadata": {
  "name": "",
  "signature": "sha256:fdcd3008975590463867e274fdf78ff1b492b5ab57fceffaeb5b937c1942766b"
 },
 "nbformat": 3,
 "nbformat_minor": 0,
 "worksheets": [
  {
   "cells": [
    {
     "cell_type": "code",
     "collapsed": false,
     "input": [
      "%matplotlib inline\n",
      "import numpy as np\n",
      "import pandas as pd\n",
      "import scipy\n",
      "import matplotlib.pyplot as plt\n",
      "import seaborn as sns\n",
      "from scipy import stats\n",
      "import statsmodels.api as sm\n",
      "import math\n",
      "from __future__ import division\n",
      "\n",
      "# turn of data table rendering\n",
      "pd.set_option('display.notebook_repr_html', False)\n",
      "\n",
      "sns.set_palette(['#00A99D', '#F5CA0C', '#B6129F', '#76620C', '#095C57'])\n",
      "np.version.full_version, scipy.version.full_version, \\\n",
      "pd.version.version, sm.version.full_version"
     ],
     "language": "python",
     "metadata": {},
     "outputs": [
      {
       "metadata": {},
       "output_type": "pyout",
       "prompt_number": 1,
       "text": [
        "('1.9.1', '0.14.0', '0.15.2', '0.6.1')"
       ]
      }
     ],
     "prompt_number": 1
    },
    {
     "cell_type": "markdown",
     "metadata": {},
     "source": [
      "## Baseball data\n",
      "We use baseball stats data from the [Lahman\u2019s Baseball Database](http://www.seanlahman.com/baseball-archive/statistics) as provided by the Udacity course [Intro to Data Science](https://www.udacity.com/course/ud359)."
     ]
    },
    {
     "cell_type": "code",
     "collapsed": false,
     "input": [
      "# Load the stats data from a csv file\n",
      "df = pd.read_csv('data/baseball_stats.csv')\n",
      "df.head()"
     ],
     "language": "python",
     "metadata": {},
     "outputs": [
      {
       "metadata": {},
       "output_type": "pyout",
       "prompt_number": 2,
       "text": [
        "             name handedness  height  weight    avg   HR\n",
        "0       Tom Brown          R      73     170  0.000    0\n",
        "1  Denny Lemaster          R      73     182  0.130    4\n",
        "2       Joe Nolan          L      71     175  0.263   27\n",
        "3     Denny Doyle          L      69     175  0.250   16\n",
        "4   Jose Cardenal          R      70     150  0.275  138"
       ]
      }
     ],
     "prompt_number": 2
    },
    {
     "cell_type": "markdown",
     "metadata": {},
     "source": [
      "## Question and hypothesis\n",
      "We want to know if there is a statistical significant difference in the career batting average between left-handed and right-handed players. We choose an alpha level of 5% as the significance level. We test against the hypothesis below:\n",
      "\n",
      "|Hypothesis||$\\alpha = .05$|\n",
      "|---:|:---:|---|:---|\n",
      "|$H_0:$|$\\mu_{R} = \\mu_{L}$|There is no significant difference between left and right handedness|\n",
      "|$H_a:$|$\\mu_{R} \\neq \\mu_{L}$|There is a significant difference between left and right handedness|"
     ]
    },
    {
     "cell_type": "markdown",
     "metadata": {},
     "source": [
      "## Some data wrangling"
     ]
    },
    {
     "cell_type": "code",
     "collapsed": false,
     "input": [
      "# Get the appropriate samples from the dataframe\n",
      "# Filter out the batting averages of 0.0 (pitchers assumed)\n",
      "left_handed_avg  = df[(df['handedness'] == 'L') & (df['avg'] != 0)]['avg']\n",
      "right_handed_avg = df[(df['handedness'] == 'R') & (df['avg'] != 0)]['avg']\n",
      "\n",
      "left_handed_avg.count(), right_handed_avg.count()"
     ],
     "language": "python",
     "metadata": {},
     "outputs": [
      {
       "metadata": {},
       "output_type": "pyout",
       "prompt_number": 3,
       "text": [
        "(256, 546)"
       ]
      }
     ],
     "prompt_number": 3
    },
    {
     "cell_type": "code",
     "collapsed": false,
     "input": [
      "# Plot the distributions\n",
      "sns.distplot(left_handed_avg)\n",
      "sns.distplot(right_handed_avg)\n",
      "plt.show()"
     ],
     "language": "python",
     "metadata": {},
     "outputs": [
      {
       "metadata": {},
       "output_type": "display_data",
       "png": "[encoded data removed]",
       "text": [
        "<matplotlib.figure.Figure at 0x168010b8>"
       ]
      }
     ],
     "prompt_number": 4
    },
    {
     "cell_type": "markdown",
     "metadata": {},
     "source": [
      "## Welch's t-Test\n",
      "This t-test is a more generic hypothesis test for independent samples, based on Student's t-test. The difference with the Student's t-test is that we account for sample size and variance differences. If we set equal_var to False in the scipy stats ttest_ind, the function performs the Welch's t-test instead of the Student's t-test. The following formula applies:\n",
      "\n",
      "$$t=\\frac{(\\bar{x}_a-\\bar{x}_b)-(\\mu_a-\\mu_b)}{\\sqrt{\\frac{s_a^2}{n_a}+\\frac{s_b^2}{n_b}}}$$\n",
      "\n",
      "\n",
      "Note that the variance of $a$ and $b$ are used, not the pooled variance."
     ]
    },
    {
     "cell_type": "code",
     "collapsed": false,
     "input": [
      "# Perform Welch's t-test (equal_var=False)\n",
      "t, p = stats.ttest_ind(left_handed_avg, right_handed_avg, equal_var=False)\n",
      "t, p"
     ],
     "language": "python",
     "metadata": {},
     "outputs": [
      {
       "metadata": {},
       "output_type": "pyout",
       "prompt_number": 5,
       "text": [
        "(6.3229680493265361, 4.8741482089894302e-10)"
       ]
      }
     ],
     "prompt_number": 5
    },
    {
     "cell_type": "markdown",
     "metadata": {},
     "source": [
      "This function assumes we want to perform a two-sided t-test. For a one-sided t-test use $\\frac{1}{2}p$ since it is only true for one side of the distribution."
     ]
    },
    {
     "cell_type": "markdown",
     "metadata": {},
     "source": [
      "## Hypothesis testing"
     ]
    },
    {
     "cell_type": "code",
     "collapsed": false,
     "input": [
      "# Test if we can reject the null hypothesis\n",
      "alpha = .05\n",
      "p < alpha"
     ],
     "language": "python",
     "metadata": {},
     "outputs": [
      {
       "metadata": {},
       "output_type": "pyout",
       "prompt_number": 6,
       "text": [
        "True"
       ]
      }
     ],
     "prompt_number": 6
    },
    {
     "cell_type": "markdown",
     "metadata": {},
     "source": [
      "There seems to be a statistical significant difference between left and right handed players. We are 95% confident that the difference is not due to random chance."
     ]
    }
   ],
   "metadata": {}
  }
 ]
}
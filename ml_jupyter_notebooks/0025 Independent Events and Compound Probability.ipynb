{
 "metadata": {
  "name": "",
  "signature": "sha256:c1449d0240600ade6e970642bbbb62500cf4accd6f2b48bd978364f89f21b965"
 },
 "nbformat": 3,
 "nbformat_minor": 0,
 "worksheets": [
  {
   "cells": [
    {
     "cell_type": "code",
     "collapsed": false,
     "input": [
      "%matplotlib inline\n",
      "import sys\n",
      "import matplotlib.pyplot as plt\n",
      "from matplotlib_venn import venn2\n",
      "from __future__ import print_function\n",
      "sys.version"
     ],
     "language": "python",
     "metadata": {},
     "outputs": [
      {
       "metadata": {},
       "output_type": "pyout",
       "prompt_number": 1,
       "text": [
        "'3.4.1 |Anaconda 2.1.0 (64-bit)| (default, Sep 24 2014, 18:32:42) [MSC v.1600 64 bit (AMD64)]'"
       ]
      }
     ],
     "prompt_number": 1
    },
    {
     "cell_type": "markdown",
     "metadata": {},
     "source": [
      "## Probability of Independent Events\n",
      "First an exploration of independent events. This is where one event doesn't effect the other. If we flip a fair coin, te probability that the comes up heads or tails is for both 50%. Simply by intuition we know:\n",
      "\n",
      "$$\n",
      "P(Heads)=0.5\\\\\n",
      "P(Tails)=0.5\n",
      "$$\n",
      "\n",
      "If we flip a biased (loaded, unfair) coin, the odds change. Let's say we have a coin that comes up tails 75% of the time.\n",
      "\n",
      "$$\n",
      "P(T)=0.75\\\\\n",
      "P(H)=1.0-0.75=0.25\n",
      "$$\n",
      "\n",
      "This leads to a basic probability law that the probability of $A$ happening is equal to the probability of $1$ minus $A$ *not* happening, or $A'$ which is called the complement of $A$.\n",
      "\n",
      "$$\n",
      "P(A)=1.0-P(A')\n",
      "$$\n"
     ]
    },
    {
     "cell_type": "code",
     "collapsed": false,
     "input": [
      "# Calculate the complement (where x is in the domain [0, 1])\n",
      "p_complement = lambda x: 1.0 - x\n",
      "p_complement(0.75)"
     ],
     "language": "python",
     "metadata": {},
     "outputs": [
      {
       "metadata": {},
       "output_type": "pyout",
       "prompt_number": 2,
       "text": [
        "0.25"
       ]
      }
     ],
     "prompt_number": 2
    },
    {
     "cell_type": "markdown",
     "metadata": {},
     "source": [
      "### Mutual Exclusive Events\n",
      "We call two events mutual exclusive or disjoint when they can't occur at the same time (flipping heads and tails with one coin). When A and B are disjoint, the probability of this happening is zero.\n",
      "\n",
      "$$\n",
      "P(A\\cap B)=0\n",
      "$$\n"
     ]
    },
    {
     "cell_type": "markdown",
     "metadata": {},
     "source": [
      "## Intersection\n",
      "If we are looking at the intersection ('and', $\\cap$) between two independent events, we multiply their respective probabilities to get the combined probabaility. Let's say we flip the same fair coin twice, then each of the four possible outcomes are equaly likely. The probability of flipping heads twice (heads *and* heads):\n",
      "\n",
      "$$\n",
      "P(H\\cap H)=P(H)\\cdot P(H)=0.5\\cdot0.5=0.25\n",
      "$$\n",
      "\n",
      "What if we flipped a biased coin twice with a probability of 65% landing on tails. What is the probability that we flip heads twice in a row.\n",
      "\n",
      "$$\n",
      "P(H\\cap H)=P(H)\\cdot P(H)=0.35\\cdot0.35=0.1225\n",
      "$$\n",
      "\n",
      "\n",
      "### Multiplication Rule\n",
      "The specific multiplication rule for *independent* and *dependent* events can be generalized as follows.\n",
      "\n",
      "$$\n",
      "P(A\\cap B)=P(B\\ |\\ A)\\cdot P(A)\n",
      "$$"
     ]
    },
    {
     "cell_type": "code",
     "collapsed": false,
     "input": [
      "# Intersection / And\n",
      "v = venn2(subsets=(1, 1, 0.2), \n",
      "          set_labels=('',''), set_colors=('k', 'k'))\n",
      "v.get_patch_by_id('10').set_color('silver')\n",
      "v.get_patch_by_id('01').set_color('silver')\n",
      "v.get_label_by_id('10').set_text('')\n",
      "v.get_label_by_id('01').set_text('')\n",
      "v.get_label_by_id('11').set_text('A$\\cap$B')\n",
      "plt.show()"
     ],
     "language": "python",
     "metadata": {},
     "outputs": [
      {
       "metadata": {},
       "output_type": "display_data",
       "png": "[encoded data removed]",
       "text": [
        "<matplotlib.figure.Figure at 0x8b76d30>"
       ]
      }
     ],
     "prompt_number": 3
    },
    {
     "cell_type": "code",
     "collapsed": false,
     "input": [
      "# Specific multiplication rule for independent events\n",
      "p_and = lambda a, b: a * b\n",
      "p_and(0.35, 0.35)"
     ],
     "language": "python",
     "metadata": {},
     "outputs": [
      {
       "metadata": {},
       "output_type": "pyout",
       "prompt_number": 4,
       "text": [
        "0.12249999999999998"
       ]
      }
     ],
     "prompt_number": 4
    },
    {
     "cell_type": "markdown",
     "metadata": {},
     "source": [
      "## Union\n",
      "If we need a union ('or', $\\cup$) of one or more possible outcomes, we add their respective probabilities to arrive ad the combined probability. For instance; we flip a biased coin, with a 55% chance of heads, three times. What is the probability that we get heads only once? First we need to know what the probability of the combination head, tails and tails for a single event. Since we flip three times, we need to add all the different possibilities of flipping heads ones (HTT, HTH, HHT):\n",
      "\n",
      "$$\n",
      "P(H,T,T)=P(H)\\cdot P(T)\\cdot P(T)\\\\\n",
      "0.55\\cdot0.45\\cdot0.45=0.1114\n",
      "$$\n",
      "\n",
      "Now we still need to add up all the three possible outcomes of flipping heads ones \n",
      "\n",
      "$$\n",
      "P(HTT\\cup HTH\\cup HHT)\n",
      "$$\n",
      "\n",
      "These all have the same probability of $0.1114$:\n",
      "\n",
      "$$\n",
      "0.1114+0.1114+0.1114=0.3341\n",
      "$$\n"
     ]
    },
    {
     "cell_type": "markdown",
     "metadata": {},
     "source": [
      "### Addition Rule\n",
      "The union of **mutual exclusive** events can be generalized as follows:\n",
      "\n",
      "$$\n",
      "P(A\\cup B)=P(A)+P(B)\n",
      "$$\n",
      "\n",
      "If we account for overlap (not mutual exclusive) we must subtract one probability of A and B or else it would be added twice. The general form becomes:\n",
      "\n",
      "$$\n",
      "P(A\\cup B)=P(A)+P(B)-P(A\\cap B)\n",
      "$$"
     ]
    },
    {
     "cell_type": "code",
     "collapsed": false,
     "input": [
      "# Union / Or with overlap\n",
      "v = venn2(subsets=(1, 1, 0.2), \n",
      "          set_labels=('',''), set_colors=('k', 'k'))\n",
      "v.get_patch_by_id('10').set_color('k')\n",
      "v.get_patch_by_id('01').set_color('k')\n",
      "v.get_label_by_id('10').set_text('')\n",
      "v.get_label_by_id('01').set_text('')\n",
      "v.get_label_by_id('11').set_text('A$\\cup$B')\n",
      "plt.show()"
     ],
     "language": "python",
     "metadata": {},
     "outputs": [
      {
       "metadata": {},
       "output_type": "display_data",
       "png": "[encoded data removed]",
       "text": [
        "<matplotlib.figure.Figure at 0x8c25da0>"
       ]
      }
     ],
     "prompt_number": 5
    }
   ],
   "metadata": {}
  }
 ]
}
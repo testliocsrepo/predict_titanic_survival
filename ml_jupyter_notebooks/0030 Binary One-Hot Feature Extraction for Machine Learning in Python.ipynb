{
 "metadata": {
  "name": "",
  "signature": "sha256:b96cd0989553a84675845c711c91c37b29ea8792b963b5450c79e94f51a0c356"
 },
 "nbformat": 3,
 "nbformat_minor": 0,
 "worksheets": [
  {
   "cells": [
    {
     "cell_type": "code",
     "collapsed": false,
     "input": [
      "%matplotlib inline\n",
      "import sys\n",
      "import string\n",
      "import numpy as np\n",
      "import pandas as pd\n",
      "import matplotlib.pyplot as plt\n",
      "import seaborn as sns\n",
      "\n",
      "from sklearn import feature_extraction\n",
      "from __future__ import print_function\n",
      "\n",
      "# turn of data table rendering\n",
      "pd.set_option('display.notebook_repr_html', False)\n",
      "sns.set_palette(['#00A99D', '#F5CA0C', '#B6129F', '#76620C', '#095C57'])\n",
      "sys.version"
     ],
     "language": "python",
     "metadata": {},
     "outputs": [
      {
       "metadata": {},
       "output_type": "pyout",
       "prompt_number": 1,
       "text": [
        "'3.4.1 |Anaconda 2.1.0 (64-bit)| (default, Sep 24 2014, 18:32:42) [MSC v.1600 64 bit (AMD64)]'"
       ]
      }
     ],
     "prompt_number": 1
    },
    {
     "cell_type": "markdown",
     "metadata": {},
     "source": [
      "## Example\n",
      "We have a dataframe with four columns with only the value column containing continuous data. To use this data for a machine learning task, we need to extract the categorical data into binary one-hot columns. This way, each categorical value gets its own column with either the value 1 or 0 to denote the state of the feature for a particular row."
     ]
    },
    {
     "cell_type": "code",
     "collapsed": false,
     "input": [
      "# Load the original dataframe from csv\n",
      "df = pd.read_csv('data/feature-engineering.csv')\n",
      "df.head()"
     ],
     "language": "python",
     "metadata": {},
     "outputs": [
      {
       "metadata": {},
       "output_type": "pyout",
       "prompt_number": 2,
       "text": [
        "  Gender       City Attended     Value\n",
        "0   girl   New York      Yes  0.991472\n",
        "1    boy     London       No  0.980504\n",
        "2    boy  Amsterdam      Yes  0.969145\n",
        "3    boy  Amsterdam       No  0.968502\n",
        "4    man     London      Yes  0.938684"
       ]
      }
     ],
     "prompt_number": 2
    },
    {
     "cell_type": "markdown",
     "metadata": {},
     "source": [
      "## Binary One-Hot Encoding using DictVectorizer and Pandas\n",
      "A few simple steps let us extracts the categorical data from the dataframe and replace them with binary one-hot encoded colums. For this we use DictVectorizer from Scikit Learn's [Feature Extraction](http://scikit-learn.org/stable/modules/generated/sklearn.feature_extraction.DictVectorizer.html) library."
     ]
    },
    {
     "cell_type": "code",
     "collapsed": false,
     "input": [
      "# Create a dictionary with the categorical data points for each row\n",
      "cat_columns = ['Gender', 'City', 'Attended']\n",
      "cat_dict = df[cat_columns].to_dict(outtype='records')\n",
      "cat_dict[:5]"
     ],
     "language": "python",
     "metadata": {},
     "outputs": [
      {
       "metadata": {},
       "output_type": "pyout",
       "prompt_number": 3,
       "text": [
        "[{'Gender': 'girl', 'City': 'New York', 'Attended': 'Yes'},\n",
        " {'Gender': 'boy', 'City': 'London', 'Attended': 'No'},\n",
        " {'Gender': 'boy', 'City': 'Amsterdam', 'Attended': 'Yes'},\n",
        " {'Gender': 'boy', 'City': 'Amsterdam', 'Attended': 'No'},\n",
        " {'Gender': 'man', 'City': 'London', 'Attended': 'Yes'}]"
       ]
      }
     ],
     "prompt_number": 3
    },
    {
     "cell_type": "code",
     "collapsed": false,
     "input": [
      "# Construct a DictVectorizer to transform our dictionary to\n",
      "# a binary on-hot encoded array for each row\n",
      "vec = feature_extraction.DictVectorizer()\n",
      "cat_vector = vec.fit_transform(cat_dict).toarray()\n",
      "cat_vector[:5]"
     ],
     "language": "python",
     "metadata": {},
     "outputs": [
      {
       "metadata": {},
       "output_type": "pyout",
       "prompt_number": 4,
       "text": [
        "array([[ 0.,  1.,  0.,  0.,  1.,  0.,  1.,  0.,  0.],\n",
        "       [ 1.,  0.,  0.,  1.,  0.,  1.,  0.,  0.,  0.],\n",
        "       [ 0.,  1.,  1.,  0.,  0.,  1.,  0.,  0.,  0.],\n",
        "       [ 1.,  0.,  1.,  0.,  0.,  1.,  0.,  0.,  0.],\n",
        "       [ 0.,  1.,  0.,  1.,  0.,  0.,  0.,  1.,  0.]])"
       ]
      }
     ],
     "prompt_number": 4
    },
    {
     "cell_type": "code",
     "collapsed": false,
     "input": [
      "# Construct a separate dataframe with the one-hot encoded data\n",
      "# and set the column names by calling get_feature_names\n",
      "df_vector = pd.DataFrame(cat_vector)\n",
      "vector_columns = vec.get_feature_names()\n",
      "vector_columns"
     ],
     "language": "python",
     "metadata": {},
     "outputs": [
      {
       "metadata": {},
       "output_type": "pyout",
       "prompt_number": 5,
       "text": [
        "['Attended=No',\n",
        " 'Attended=Yes',\n",
        " 'City=Amsterdam',\n",
        " 'City=London',\n",
        " 'City=New York',\n",
        " 'Gender=boy',\n",
        " 'Gender=girl',\n",
        " 'Gender=man',\n",
        " 'Gender=woman']"
       ]
      }
     ],
     "prompt_number": 5
    },
    {
     "cell_type": "code",
     "collapsed": false,
     "input": [
      "# Drop the categorical columns and join the new one-hot \n",
      "# dataframe with the original dataframe\n",
      "df_vector.columns = vector_columns\n",
      "df_vector.index = df.index\n",
      "\n",
      "df = df.drop(cat_columns, axis=1)\n",
      "df = df.join(df_vector)\n",
      "df.head()"
     ],
     "language": "python",
     "metadata": {},
     "outputs": [
      {
       "metadata": {},
       "output_type": "pyout",
       "prompt_number": 6,
       "text": [
        "      Value  Attended=No  Attended=Yes  City=Amsterdam  City=London  \\\n",
        "0  0.991472            0             1               0            0   \n",
        "1  0.980504            1             0               0            1   \n",
        "2  0.969145            0             1               1            0   \n",
        "3  0.968502            1             0               1            0   \n",
        "4  0.938684            0             1               0            1   \n",
        "\n",
        "   City=New York  Gender=boy  Gender=girl  Gender=man  Gender=woman  \n",
        "0              1           0            1           0             0  \n",
        "1              0           1            0           0             0  \n",
        "2              0           1            0           0             0  \n",
        "3              0           1            0           0             0  \n",
        "4              0           0            0           1             0  "
       ]
      }
     ],
     "prompt_number": 6
    },
    {
     "cell_type": "code",
     "collapsed": false,
     "input": [
      "df.describe()"
     ],
     "language": "python",
     "metadata": {},
     "outputs": [
      {
       "metadata": {},
       "output_type": "pyout",
       "prompt_number": 7,
       "text": [
        "            Value  Attended=No  Attended=Yes  City=Amsterdam  City=London  \\\n",
        "count  100.000000       100.00        100.00      100.000000   100.000000   \n",
        "mean     0.485863         0.55          0.45        0.400000     0.320000   \n",
        "std      0.307723         0.50          0.50        0.492366     0.468826   \n",
        "min      0.016199         0.00          0.00        0.000000     0.000000   \n",
        "25%      0.213648         0.00          0.00        0.000000     0.000000   \n",
        "50%      0.454238         1.00          0.00        0.000000     0.000000   \n",
        "75%      0.752019         1.00          1.00        1.000000     1.000000   \n",
        "max      0.991472         1.00          1.00        1.000000     1.000000   \n",
        "\n",
        "       City=New York  Gender=boy  Gender=girl  Gender=man  Gender=woman  \n",
        "count     100.000000  100.000000   100.000000  100.000000    100.000000  \n",
        "mean        0.280000    0.250000     0.250000    0.250000      0.250000  \n",
        "std         0.451261    0.435194     0.435194    0.435194      0.435194  \n",
        "min         0.000000    0.000000     0.000000    0.000000      0.000000  \n",
        "25%         0.000000    0.000000     0.000000    0.000000      0.000000  \n",
        "50%         0.000000    0.000000     0.000000    0.000000      0.000000  \n",
        "75%         1.000000    0.250000     0.250000    0.250000      0.250000  \n",
        "max         1.000000    1.000000     1.000000    1.000000      1.000000  "
       ]
      }
     ],
     "prompt_number": 7
    }
   ],
   "metadata": {}
  }
 ]
}